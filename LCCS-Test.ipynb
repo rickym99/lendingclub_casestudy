{
 "cells": [
  {
   "cell_type": "code",
   "execution_count": 1,
   "metadata": {},
   "outputs": [],
   "source": [
    "import numpy as np\n",
    "import pandas as pd\n",
    "import seaborn as sns\n",
    "import matplotlib.pyplot as plt"
   ]
  },
  {
   "cell_type": "code",
   "execution_count": 2,
   "metadata": {},
   "outputs": [
    {
     "name": "stderr",
     "output_type": "stream",
     "text": [
      "C:\\Users\\ricky\\Anaconda3\\lib\\site-packages\\IPython\\core\\interactiveshell.py:3058: DtypeWarning: Columns (47) have mixed types. Specify dtype option on import or set low_memory=False.\n",
      "  interactivity=interactivity, compiler=compiler, result=result)\n"
     ]
    },
    {
     "data": {
      "text/html": [
       "<div>\n",
       "<style scoped>\n",
       "    .dataframe tbody tr th:only-of-type {\n",
       "        vertical-align: middle;\n",
       "    }\n",
       "\n",
       "    .dataframe tbody tr th {\n",
       "        vertical-align: top;\n",
       "    }\n",
       "\n",
       "    .dataframe thead th {\n",
       "        text-align: right;\n",
       "    }\n",
       "</style>\n",
       "<table border=\"1\" class=\"dataframe\">\n",
       "  <thead>\n",
       "    <tr style=\"text-align: right;\">\n",
       "      <th></th>\n",
       "      <th>id</th>\n",
       "      <th>member_id</th>\n",
       "      <th>loan_amnt</th>\n",
       "      <th>funded_amnt</th>\n",
       "      <th>funded_amnt_inv</th>\n",
       "      <th>term</th>\n",
       "      <th>int_rate</th>\n",
       "      <th>installment</th>\n",
       "      <th>grade</th>\n",
       "      <th>sub_grade</th>\n",
       "      <th>...</th>\n",
       "      <th>num_tl_90g_dpd_24m</th>\n",
       "      <th>num_tl_op_past_12m</th>\n",
       "      <th>pct_tl_nvr_dlq</th>\n",
       "      <th>percent_bc_gt_75</th>\n",
       "      <th>pub_rec_bankruptcies</th>\n",
       "      <th>tax_liens</th>\n",
       "      <th>tot_hi_cred_lim</th>\n",
       "      <th>total_bal_ex_mort</th>\n",
       "      <th>total_bc_limit</th>\n",
       "      <th>total_il_high_credit_limit</th>\n",
       "    </tr>\n",
       "  </thead>\n",
       "  <tbody>\n",
       "    <tr>\n",
       "      <td>0</td>\n",
       "      <td>1077501</td>\n",
       "      <td>1296599</td>\n",
       "      <td>5000</td>\n",
       "      <td>5000</td>\n",
       "      <td>4975.0</td>\n",
       "      <td>36 months</td>\n",
       "      <td>10.65%</td>\n",
       "      <td>162.87</td>\n",
       "      <td>B</td>\n",
       "      <td>B2</td>\n",
       "      <td>...</td>\n",
       "      <td>NaN</td>\n",
       "      <td>NaN</td>\n",
       "      <td>NaN</td>\n",
       "      <td>NaN</td>\n",
       "      <td>0.0</td>\n",
       "      <td>0.0</td>\n",
       "      <td>NaN</td>\n",
       "      <td>NaN</td>\n",
       "      <td>NaN</td>\n",
       "      <td>NaN</td>\n",
       "    </tr>\n",
       "    <tr>\n",
       "      <td>1</td>\n",
       "      <td>1077430</td>\n",
       "      <td>1314167</td>\n",
       "      <td>2500</td>\n",
       "      <td>2500</td>\n",
       "      <td>2500.0</td>\n",
       "      <td>60 months</td>\n",
       "      <td>15.27%</td>\n",
       "      <td>59.83</td>\n",
       "      <td>C</td>\n",
       "      <td>C4</td>\n",
       "      <td>...</td>\n",
       "      <td>NaN</td>\n",
       "      <td>NaN</td>\n",
       "      <td>NaN</td>\n",
       "      <td>NaN</td>\n",
       "      <td>0.0</td>\n",
       "      <td>0.0</td>\n",
       "      <td>NaN</td>\n",
       "      <td>NaN</td>\n",
       "      <td>NaN</td>\n",
       "      <td>NaN</td>\n",
       "    </tr>\n",
       "    <tr>\n",
       "      <td>2</td>\n",
       "      <td>1077175</td>\n",
       "      <td>1313524</td>\n",
       "      <td>2400</td>\n",
       "      <td>2400</td>\n",
       "      <td>2400.0</td>\n",
       "      <td>36 months</td>\n",
       "      <td>15.96%</td>\n",
       "      <td>84.33</td>\n",
       "      <td>C</td>\n",
       "      <td>C5</td>\n",
       "      <td>...</td>\n",
       "      <td>NaN</td>\n",
       "      <td>NaN</td>\n",
       "      <td>NaN</td>\n",
       "      <td>NaN</td>\n",
       "      <td>0.0</td>\n",
       "      <td>0.0</td>\n",
       "      <td>NaN</td>\n",
       "      <td>NaN</td>\n",
       "      <td>NaN</td>\n",
       "      <td>NaN</td>\n",
       "    </tr>\n",
       "    <tr>\n",
       "      <td>3</td>\n",
       "      <td>1076863</td>\n",
       "      <td>1277178</td>\n",
       "      <td>10000</td>\n",
       "      <td>10000</td>\n",
       "      <td>10000.0</td>\n",
       "      <td>36 months</td>\n",
       "      <td>13.49%</td>\n",
       "      <td>339.31</td>\n",
       "      <td>C</td>\n",
       "      <td>C1</td>\n",
       "      <td>...</td>\n",
       "      <td>NaN</td>\n",
       "      <td>NaN</td>\n",
       "      <td>NaN</td>\n",
       "      <td>NaN</td>\n",
       "      <td>0.0</td>\n",
       "      <td>0.0</td>\n",
       "      <td>NaN</td>\n",
       "      <td>NaN</td>\n",
       "      <td>NaN</td>\n",
       "      <td>NaN</td>\n",
       "    </tr>\n",
       "    <tr>\n",
       "      <td>4</td>\n",
       "      <td>1075358</td>\n",
       "      <td>1311748</td>\n",
       "      <td>3000</td>\n",
       "      <td>3000</td>\n",
       "      <td>3000.0</td>\n",
       "      <td>60 months</td>\n",
       "      <td>12.69%</td>\n",
       "      <td>67.79</td>\n",
       "      <td>B</td>\n",
       "      <td>B5</td>\n",
       "      <td>...</td>\n",
       "      <td>NaN</td>\n",
       "      <td>NaN</td>\n",
       "      <td>NaN</td>\n",
       "      <td>NaN</td>\n",
       "      <td>0.0</td>\n",
       "      <td>0.0</td>\n",
       "      <td>NaN</td>\n",
       "      <td>NaN</td>\n",
       "      <td>NaN</td>\n",
       "      <td>NaN</td>\n",
       "    </tr>\n",
       "  </tbody>\n",
       "</table>\n",
       "<p>5 rows × 111 columns</p>\n",
       "</div>"
      ],
      "text/plain": [
       "        id  member_id  loan_amnt  funded_amnt  funded_amnt_inv        term  \\\n",
       "0  1077501    1296599       5000         5000           4975.0   36 months   \n",
       "1  1077430    1314167       2500         2500           2500.0   60 months   \n",
       "2  1077175    1313524       2400         2400           2400.0   36 months   \n",
       "3  1076863    1277178      10000        10000          10000.0   36 months   \n",
       "4  1075358    1311748       3000         3000           3000.0   60 months   \n",
       "\n",
       "  int_rate  installment grade sub_grade  ... num_tl_90g_dpd_24m  \\\n",
       "0   10.65%       162.87     B        B2  ...                NaN   \n",
       "1   15.27%        59.83     C        C4  ...                NaN   \n",
       "2   15.96%        84.33     C        C5  ...                NaN   \n",
       "3   13.49%       339.31     C        C1  ...                NaN   \n",
       "4   12.69%        67.79     B        B5  ...                NaN   \n",
       "\n",
       "  num_tl_op_past_12m pct_tl_nvr_dlq  percent_bc_gt_75 pub_rec_bankruptcies  \\\n",
       "0                NaN            NaN               NaN                  0.0   \n",
       "1                NaN            NaN               NaN                  0.0   \n",
       "2                NaN            NaN               NaN                  0.0   \n",
       "3                NaN            NaN               NaN                  0.0   \n",
       "4                NaN            NaN               NaN                  0.0   \n",
       "\n",
       "  tax_liens tot_hi_cred_lim total_bal_ex_mort total_bc_limit  \\\n",
       "0       0.0             NaN               NaN            NaN   \n",
       "1       0.0             NaN               NaN            NaN   \n",
       "2       0.0             NaN               NaN            NaN   \n",
       "3       0.0             NaN               NaN            NaN   \n",
       "4       0.0             NaN               NaN            NaN   \n",
       "\n",
       "  total_il_high_credit_limit  \n",
       "0                        NaN  \n",
       "1                        NaN  \n",
       "2                        NaN  \n",
       "3                        NaN  \n",
       "4                        NaN  \n",
       "\n",
       "[5 rows x 111 columns]"
      ]
     },
     "execution_count": 2,
     "metadata": {},
     "output_type": "execute_result"
    }
   ],
   "source": [
    "# reading the dataset\n",
    "\n",
    "lccs = pd.read_csv('loan.csv')\n",
    "lccs.head()"
   ]
  },
  {
   "cell_type": "code",
   "execution_count": 3,
   "metadata": {},
   "outputs": [
    {
     "data": {
      "text/plain": [
       "(39717, 111)"
      ]
     },
     "execution_count": 3,
     "metadata": {},
     "output_type": "execute_result"
    }
   ],
   "source": [
    "lccs.shape"
   ]
  },
  {
   "cell_type": "code",
   "execution_count": 4,
   "metadata": {
    "scrolled": false
   },
   "outputs": [
    {
     "data": {
      "text/plain": [
       "id                              0.000000\n",
       "member_id                       0.000000\n",
       "loan_amnt                       0.000000\n",
       "funded_amnt                     0.000000\n",
       "funded_amnt_inv                 0.000000\n",
       "                                 ...    \n",
       "tax_liens                       0.098195\n",
       "tot_hi_cred_lim               100.000000\n",
       "total_bal_ex_mort             100.000000\n",
       "total_bc_limit                100.000000\n",
       "total_il_high_credit_limit    100.000000\n",
       "Length: 111, dtype: float64"
      ]
     },
     "execution_count": 4,
     "metadata": {},
     "output_type": "execute_result"
    }
   ],
   "source": [
    "lccs.isna().mean()*100"
   ]
  },
  {
   "cell_type": "code",
   "execution_count": 5,
   "metadata": {},
   "outputs": [
    {
     "data": {
      "text/plain": [
       "Index(['id', 'member_id', 'loan_amnt', 'funded_amnt', 'funded_amnt_inv',\n",
       "       'term', 'int_rate', 'installment', 'grade', 'sub_grade', 'emp_title',\n",
       "       'emp_length', 'home_ownership', 'annual_inc', 'verification_status',\n",
       "       'issue_d', 'loan_status', 'pymnt_plan', 'url', 'desc', 'purpose',\n",
       "       'title', 'zip_code', 'addr_state', 'dti', 'delinq_2yrs',\n",
       "       'earliest_cr_line', 'inq_last_6mths', 'open_acc', 'pub_rec',\n",
       "       'revol_bal', 'revol_util', 'total_acc', 'initial_list_status',\n",
       "       'out_prncp', 'out_prncp_inv', 'total_pymnt', 'total_pymnt_inv',\n",
       "       'total_rec_prncp', 'total_rec_int', 'total_rec_late_fee', 'recoveries',\n",
       "       'collection_recovery_fee', 'last_pymnt_d', 'last_pymnt_amnt',\n",
       "       'last_credit_pull_d', 'collections_12_mths_ex_med', 'policy_code',\n",
       "       'application_type', 'acc_now_delinq', 'chargeoff_within_12_mths',\n",
       "       'delinq_amnt', 'pub_rec_bankruptcies', 'tax_liens'],\n",
       "      dtype='object')"
      ]
     },
     "execution_count": 5,
     "metadata": {},
     "output_type": "execute_result"
    }
   ],
   "source": [
    "##Identify columns with all NA values >= 60%\n",
    "loan_df = pd.read_csv('loan.csv')\n",
    "df_cols = pd.DataFrame(loan_df.isna().mean()*100)\n",
    "\n",
    "df_cols_with_na = df_cols[df_cols[0] >= 60]\n",
    "df_cols_with_na.index.name = 'col_name'\n",
    "df_cols_with_na.reset_index(inplace=True)\n",
    "na_list = df_cols_with_na['col_name'].tolist()\n",
    "\n",
    "## dropping those columns with 60% missing data\n",
    "loan_df.drop(na_list, axis =1, inplace = True)\n",
    "loan_df.columns\n",
    "\n",
    "## writing the file to excel to analyse\n",
    "#loan_df.to_excel('loan_df.xlsx', index = None)"
   ]
  },
  {
   "cell_type": "code",
   "execution_count": 6,
   "metadata": {},
   "outputs": [
    {
     "data": {
      "text/plain": [
       "(39717, 54)"
      ]
     },
     "execution_count": 6,
     "metadata": {},
     "output_type": "execute_result"
    }
   ],
   "source": [
    "loan_df.shape"
   ]
  },
  {
   "cell_type": "code",
   "execution_count": 7,
   "metadata": {
    "scrolled": true
   },
   "outputs": [
    {
     "data": {
      "text/plain": [
       "id                              int64\n",
       "member_id                       int64\n",
       "loan_amnt                       int64\n",
       "funded_amnt                     int64\n",
       "funded_amnt_inv               float64\n",
       "term                           object\n",
       "int_rate                       object\n",
       "installment                   float64\n",
       "grade                          object\n",
       "sub_grade                      object\n",
       "emp_title                      object\n",
       "emp_length                     object\n",
       "home_ownership                 object\n",
       "annual_inc                    float64\n",
       "verification_status            object\n",
       "issue_d                        object\n",
       "loan_status                    object\n",
       "pymnt_plan                     object\n",
       "url                            object\n",
       "desc                           object\n",
       "purpose                        object\n",
       "title                          object\n",
       "zip_code                       object\n",
       "addr_state                     object\n",
       "dti                           float64\n",
       "delinq_2yrs                     int64\n",
       "earliest_cr_line               object\n",
       "inq_last_6mths                  int64\n",
       "open_acc                        int64\n",
       "pub_rec                         int64\n",
       "revol_bal                       int64\n",
       "revol_util                     object\n",
       "total_acc                       int64\n",
       "initial_list_status            object\n",
       "out_prncp                     float64\n",
       "out_prncp_inv                 float64\n",
       "total_pymnt                   float64\n",
       "total_pymnt_inv               float64\n",
       "total_rec_prncp               float64\n",
       "total_rec_int                 float64\n",
       "total_rec_late_fee            float64\n",
       "recoveries                    float64\n",
       "collection_recovery_fee       float64\n",
       "last_pymnt_d                   object\n",
       "last_pymnt_amnt               float64\n",
       "last_credit_pull_d             object\n",
       "collections_12_mths_ex_med    float64\n",
       "policy_code                     int64\n",
       "application_type               object\n",
       "acc_now_delinq                  int64\n",
       "chargeoff_within_12_mths      float64\n",
       "delinq_amnt                     int64\n",
       "pub_rec_bankruptcies          float64\n",
       "tax_liens                     float64\n",
       "dtype: object"
      ]
     },
     "execution_count": 7,
     "metadata": {},
     "output_type": "execute_result"
    }
   ],
   "source": [
    "loan_df.dtypes"
   ]
  },
  {
   "cell_type": "code",
   "execution_count": 8,
   "metadata": {
    "scrolled": false
   },
   "outputs": [
    {
     "data": {
      "text/plain": [
       "id                            39717\n",
       "member_id                     39717\n",
       "loan_amnt                       885\n",
       "funded_amnt                    1041\n",
       "funded_amnt_inv                8205\n",
       "term                              2\n",
       "int_rate                        371\n",
       "installment                   15383\n",
       "grade                             7\n",
       "sub_grade                        35\n",
       "emp_title                     28820\n",
       "emp_length                       11\n",
       "home_ownership                    5\n",
       "annual_inc                     5318\n",
       "verification_status               3\n",
       "issue_d                          55\n",
       "loan_status                       3\n",
       "pymnt_plan                        1\n",
       "url                           39717\n",
       "desc                          26527\n",
       "purpose                          14\n",
       "title                         19615\n",
       "zip_code                        823\n",
       "addr_state                       50\n",
       "dti                            2868\n",
       "delinq_2yrs                      11\n",
       "earliest_cr_line                526\n",
       "inq_last_6mths                    9\n",
       "open_acc                         40\n",
       "pub_rec                           5\n",
       "revol_bal                     21711\n",
       "revol_util                     1089\n",
       "total_acc                        82\n",
       "initial_list_status               1\n",
       "out_prncp                      1137\n",
       "out_prncp_inv                  1138\n",
       "total_pymnt                   37850\n",
       "total_pymnt_inv               37518\n",
       "total_rec_prncp                7976\n",
       "total_rec_int                 35148\n",
       "total_rec_late_fee             1356\n",
       "recoveries                     4040\n",
       "collection_recovery_fee        2616\n",
       "last_pymnt_d                    101\n",
       "last_pymnt_amnt               34930\n",
       "last_credit_pull_d              106\n",
       "collections_12_mths_ex_med        1\n",
       "policy_code                       1\n",
       "application_type                  1\n",
       "acc_now_delinq                    1\n",
       "chargeoff_within_12_mths          1\n",
       "delinq_amnt                       1\n",
       "pub_rec_bankruptcies              3\n",
       "tax_liens                         1\n",
       "dtype: int64"
      ]
     },
     "execution_count": 8,
     "metadata": {},
     "output_type": "execute_result"
    }
   ],
   "source": [
    "loan_df.nunique()"
   ]
  },
  {
   "cell_type": "code",
   "execution_count": 9,
   "metadata": {
    "scrolled": true
   },
   "outputs": [
    {
     "name": "stdout",
     "output_type": "stream",
     "text": [
      "shape of dataframe before dropping :  (39717, 54)\n",
      "unique values in collections_12_mths_ex_med: [ 0. nan]\n",
      "unique values in acc_now_delinq: [0]\n",
      "unique values in chargeoff_within_12_mths: [ 0. nan]\n",
      "unique values in delinq_amnt: [0]\n",
      "unique values in pymnt_plan: ['n']\n",
      "unique values in tax_liens: [ 0. nan]\n",
      "shape of dataframe post dropping 0/nan valued columns : (39717, 48)\n"
     ]
    }
   ],
   "source": [
    "#shape before dropping\n",
    "print('shape of dataframe before dropping : ',loan_df.shape)\n",
    "# Identifying & dropping the columns containing 0/nan\n",
    "print('unique values in collections_12_mths_ex_med:', loan_df['collections_12_mths_ex_med'].unique())\n",
    "print('unique values in acc_now_delinq:', loan_df['acc_now_delinq'].unique())\n",
    "print('unique values in chargeoff_within_12_mths:', loan_df['chargeoff_within_12_mths'].unique())\n",
    "print('unique values in delinq_amnt:', loan_df['delinq_amnt'].unique())\n",
    "print('unique values in pymnt_plan:', loan_df['pymnt_plan'].unique())\n",
    "print('unique values in tax_liens:', loan_df['tax_liens'].unique())\n",
    "\n",
    "loan_df.drop(['collections_12_mths_ex_med','acc_now_delinq','chargeoff_within_12_mths','delinq_amnt','pymnt_plan' , 'tax_liens'], axis=1,inplace = True)\n",
    "\n",
    "print('shape of dataframe post dropping 0/nan valued columns :',loan_df.shape)"
   ]
  },
  {
   "cell_type": "code",
   "execution_count": 10,
   "metadata": {},
   "outputs": [
    {
     "name": "stdout",
     "output_type": "stream",
     "text": [
      "shape of dataframe before dropping single valued columns :  (39717, 48)\n",
      "unique values in application_type: ['INDIVIDUAL']\n",
      "unique values in policy_code: [1]\n",
      "unique values in initial_list_status: ['f']\n",
      "shape of dataframe post dropping single valued columns : (39717, 45)\n"
     ]
    }
   ],
   "source": [
    "# Dropping the columns containing only single value, These are not adding any value to analysis\n",
    "print('shape of dataframe before dropping single valued columns : ',loan_df.shape)\n",
    "print('unique values in application_type:', loan_df['application_type'].unique())\n",
    "print('unique values in policy_code:', loan_df['policy_code'].unique())\n",
    "print('unique values in initial_list_status:', loan_df['initial_list_status'].unique())\n",
    "\n",
    "loan_df.drop(['initial_list_status','application_type','policy_code'], axis=1, inplace = True)\n",
    "print('shape of dataframe post dropping single valued columns :',loan_df.shape)"
   ]
  },
  {
   "cell_type": "code",
   "execution_count": 11,
   "metadata": {},
   "outputs": [
    {
     "name": "stdout",
     "output_type": "stream",
     "text": [
      "shape of dataframe before dropping wide spread columns : (39717, 45)\n",
      "shape of dataframe post dropping wide spread columns : (39717, 42)\n"
     ]
    }
   ],
   "source": [
    "# dropping the columns which cannot be included in analysis, as they have very wide-spread subjective data\n",
    "print('shape of dataframe before dropping wide spread columns :',loan_df.shape)\n",
    "\n",
    "loan_df.drop(['url','desc','id'], axis=1, inplace = True)\n",
    "\n",
    "print('shape of dataframe post dropping wide spread columns :',loan_df.shape)"
   ]
  },
  {
   "cell_type": "code",
   "execution_count": 12,
   "metadata": {},
   "outputs": [
    {
     "name": "stdout",
     "output_type": "stream",
     "text": [
      "Shape of the dataframe with Charged-off and Fully-paid loans:  (38577, 42)\n"
     ]
    }
   ],
   "source": [
    "# selecting the loans_status other than 'current', as we cannot derive insights from these running loans.\n",
    "# so considering only 'Charged-off' and 'Fully-paid' loans in the dataset.\n",
    "loan_df = loan_df[loan_df['loan_status'] != 'Current']\n",
    "print('Shape of the dataframe with Charged-off and Fully-paid loans: ',loan_df.shape)"
   ]
  },
  {
   "cell_type": "code",
   "execution_count": 13,
   "metadata": {
    "scrolled": false
   },
   "outputs": [
    {
     "data": {
      "text/plain": [
       "member_id                  0.000000\n",
       "loan_amnt                  0.000000\n",
       "funded_amnt                0.000000\n",
       "funded_amnt_inv            0.000000\n",
       "term                       0.000000\n",
       "int_rate                   0.000000\n",
       "installment                0.000000\n",
       "grade                      0.000000\n",
       "sub_grade                  0.000000\n",
       "emp_title                  6.185033\n",
       "emp_length                 2.677761\n",
       "home_ownership             0.000000\n",
       "annual_inc                 0.000000\n",
       "verification_status        0.000000\n",
       "issue_d                    0.000000\n",
       "loan_status                0.000000\n",
       "purpose                    0.000000\n",
       "title                      0.028514\n",
       "zip_code                   0.000000\n",
       "addr_state                 0.000000\n",
       "dti                        0.000000\n",
       "delinq_2yrs                0.000000\n",
       "earliest_cr_line           0.000000\n",
       "inq_last_6mths             0.000000\n",
       "open_acc                   0.000000\n",
       "pub_rec                    0.000000\n",
       "revol_bal                  0.000000\n",
       "revol_util                 0.129611\n",
       "total_acc                  0.000000\n",
       "out_prncp                  0.000000\n",
       "out_prncp_inv              0.000000\n",
       "total_pymnt                0.000000\n",
       "total_pymnt_inv            0.000000\n",
       "total_rec_prncp            0.000000\n",
       "total_rec_int              0.000000\n",
       "total_rec_late_fee         0.000000\n",
       "recoveries                 0.000000\n",
       "collection_recovery_fee    0.000000\n",
       "last_pymnt_d               0.184047\n",
       "last_pymnt_amnt            0.000000\n",
       "last_credit_pull_d         0.005184\n",
       "pub_rec_bankruptcies       1.806776\n",
       "dtype: float64"
      ]
     },
     "execution_count": 13,
     "metadata": {},
     "output_type": "execute_result"
    }
   ],
   "source": [
    "# checking the NA values in the subset across columns\n",
    "loan_df.isna().mean()*100"
   ]
  },
  {
   "cell_type": "code",
   "execution_count": 14,
   "metadata": {},
   "outputs": [],
   "source": [
    "# categorising major columns into categorical, numerical variables and loan attribute columns\n",
    "cat_cols = ['term','grade','sub_grade','home_ownership','verification_status','loan_status', 'purpose','zip_code',\n",
    "           'addr_state']\n",
    "\n",
    "num_cols = ['emp_length','annual_inc','delinq_2yrs','inq_last_6mths','total_rec_prncp','total_rec_int','total_rec_late_fee',\n",
    "           'recoveries','collection_recovery_fee','earliest_cr_line']\n",
    "\n",
    "loan_att_cols = ['loan_amnt','funded_amnt','funded_amnt_inv','int_rate','installment','dti','open_acc','pub_rec',\n",
    "                 'revol_bal','revol_util','total_acc','out_prncp','out_prncp_inv','total_pymnt','total_pymnt_inv',\n",
    "                 'total_rec_prncp','total_rec_int','total_rec_late_fee','last_pymnt_amnt','pub_rec_bankruptcies']\n"
   ]
  },
  {
   "cell_type": "code",
   "execution_count": null,
   "metadata": {},
   "outputs": [],
   "source": []
  },
  {
   "cell_type": "markdown",
   "metadata": {},
   "source": [
    "Univariate Analysis"
   ]
  },
  {
   "cell_type": "code",
   "execution_count": 15,
   "metadata": {},
   "outputs": [
    {
     "data": {
      "text/plain": [
       "term\n",
       " 36 months    75.42318\n",
       " 60 months    24.57682\n",
       "dtype: float64"
      ]
     },
     "execution_count": 15,
     "metadata": {},
     "output_type": "execute_result"
    }
   ],
   "source": [
    "# distribution of 'term' of the loan\n",
    "loan_df.groupby('term').size()/len(loan_df) * 100"
   ]
  },
  {
   "cell_type": "code",
   "execution_count": 16,
   "metadata": {
    "scrolled": true
   },
   "outputs": [],
   "source": [
    "loan_df['term'].replace(' 36 months', 36, inplace =True)\n",
    "loan_df['term'].replace(' 60 months', 60, inplace =True)"
   ]
  },
  {
   "cell_type": "code",
   "execution_count": 17,
   "metadata": {
    "scrolled": false
   },
   "outputs": [
    {
     "data": {
      "text/html": [
       "<div>\n",
       "<style scoped>\n",
       "    .dataframe tbody tr th:only-of-type {\n",
       "        vertical-align: middle;\n",
       "    }\n",
       "\n",
       "    .dataframe tbody tr th {\n",
       "        vertical-align: top;\n",
       "    }\n",
       "\n",
       "    .dataframe thead th {\n",
       "        text-align: right;\n",
       "    }\n",
       "</style>\n",
       "<table border=\"1\" class=\"dataframe\">\n",
       "  <thead>\n",
       "    <tr style=\"text-align: right;\">\n",
       "      <th></th>\n",
       "      <th>member_id</th>\n",
       "      <th>loan_amnt</th>\n",
       "      <th>funded_amnt</th>\n",
       "      <th>funded_amnt_inv</th>\n",
       "      <th>term</th>\n",
       "      <th>int_rate</th>\n",
       "      <th>installment</th>\n",
       "      <th>grade</th>\n",
       "      <th>sub_grade</th>\n",
       "      <th>emp_title</th>\n",
       "      <th>...</th>\n",
       "      <th>total_pymnt_inv</th>\n",
       "      <th>total_rec_prncp</th>\n",
       "      <th>total_rec_int</th>\n",
       "      <th>total_rec_late_fee</th>\n",
       "      <th>recoveries</th>\n",
       "      <th>collection_recovery_fee</th>\n",
       "      <th>last_pymnt_d</th>\n",
       "      <th>last_pymnt_amnt</th>\n",
       "      <th>last_credit_pull_d</th>\n",
       "      <th>pub_rec_bankruptcies</th>\n",
       "    </tr>\n",
       "  </thead>\n",
       "  <tbody>\n",
       "    <tr>\n",
       "      <td>0</td>\n",
       "      <td>1296599</td>\n",
       "      <td>5000</td>\n",
       "      <td>5000</td>\n",
       "      <td>4975.0</td>\n",
       "      <td>36</td>\n",
       "      <td>10.65%</td>\n",
       "      <td>162.87</td>\n",
       "      <td>B</td>\n",
       "      <td>B2</td>\n",
       "      <td>NaN</td>\n",
       "      <td>...</td>\n",
       "      <td>5833.84</td>\n",
       "      <td>5000.00</td>\n",
       "      <td>863.16</td>\n",
       "      <td>0.00</td>\n",
       "      <td>0.00</td>\n",
       "      <td>0.00</td>\n",
       "      <td>Jan-15</td>\n",
       "      <td>171.62</td>\n",
       "      <td>May-16</td>\n",
       "      <td>0.0</td>\n",
       "    </tr>\n",
       "    <tr>\n",
       "      <td>1</td>\n",
       "      <td>1314167</td>\n",
       "      <td>2500</td>\n",
       "      <td>2500</td>\n",
       "      <td>2500.0</td>\n",
       "      <td>60</td>\n",
       "      <td>15.27%</td>\n",
       "      <td>59.83</td>\n",
       "      <td>C</td>\n",
       "      <td>C4</td>\n",
       "      <td>Ryder</td>\n",
       "      <td>...</td>\n",
       "      <td>1008.71</td>\n",
       "      <td>456.46</td>\n",
       "      <td>435.17</td>\n",
       "      <td>0.00</td>\n",
       "      <td>117.08</td>\n",
       "      <td>1.11</td>\n",
       "      <td>Apr-13</td>\n",
       "      <td>119.66</td>\n",
       "      <td>Sep-13</td>\n",
       "      <td>0.0</td>\n",
       "    </tr>\n",
       "    <tr>\n",
       "      <td>2</td>\n",
       "      <td>1313524</td>\n",
       "      <td>2400</td>\n",
       "      <td>2400</td>\n",
       "      <td>2400.0</td>\n",
       "      <td>36</td>\n",
       "      <td>15.96%</td>\n",
       "      <td>84.33</td>\n",
       "      <td>C</td>\n",
       "      <td>C5</td>\n",
       "      <td>NaN</td>\n",
       "      <td>...</td>\n",
       "      <td>3005.67</td>\n",
       "      <td>2400.00</td>\n",
       "      <td>605.67</td>\n",
       "      <td>0.00</td>\n",
       "      <td>0.00</td>\n",
       "      <td>0.00</td>\n",
       "      <td>Jun-14</td>\n",
       "      <td>649.91</td>\n",
       "      <td>May-16</td>\n",
       "      <td>0.0</td>\n",
       "    </tr>\n",
       "    <tr>\n",
       "      <td>3</td>\n",
       "      <td>1277178</td>\n",
       "      <td>10000</td>\n",
       "      <td>10000</td>\n",
       "      <td>10000.0</td>\n",
       "      <td>36</td>\n",
       "      <td>13.49%</td>\n",
       "      <td>339.31</td>\n",
       "      <td>C</td>\n",
       "      <td>C1</td>\n",
       "      <td>AIR RESOURCES BOARD</td>\n",
       "      <td>...</td>\n",
       "      <td>12231.89</td>\n",
       "      <td>10000.00</td>\n",
       "      <td>2214.92</td>\n",
       "      <td>16.97</td>\n",
       "      <td>0.00</td>\n",
       "      <td>0.00</td>\n",
       "      <td>Jan-15</td>\n",
       "      <td>357.48</td>\n",
       "      <td>Apr-16</td>\n",
       "      <td>0.0</td>\n",
       "    </tr>\n",
       "    <tr>\n",
       "      <td>5</td>\n",
       "      <td>1311441</td>\n",
       "      <td>5000</td>\n",
       "      <td>5000</td>\n",
       "      <td>5000.0</td>\n",
       "      <td>36</td>\n",
       "      <td>7.90%</td>\n",
       "      <td>156.46</td>\n",
       "      <td>A</td>\n",
       "      <td>A4</td>\n",
       "      <td>Veolia Transportaton</td>\n",
       "      <td>...</td>\n",
       "      <td>5632.21</td>\n",
       "      <td>5000.00</td>\n",
       "      <td>632.21</td>\n",
       "      <td>0.00</td>\n",
       "      <td>0.00</td>\n",
       "      <td>0.00</td>\n",
       "      <td>Jan-15</td>\n",
       "      <td>161.03</td>\n",
       "      <td>Jan-16</td>\n",
       "      <td>0.0</td>\n",
       "    </tr>\n",
       "  </tbody>\n",
       "</table>\n",
       "<p>5 rows × 42 columns</p>\n",
       "</div>"
      ],
      "text/plain": [
       "   member_id  loan_amnt  funded_amnt  funded_amnt_inv  term int_rate  \\\n",
       "0    1296599       5000         5000           4975.0    36   10.65%   \n",
       "1    1314167       2500         2500           2500.0    60   15.27%   \n",
       "2    1313524       2400         2400           2400.0    36   15.96%   \n",
       "3    1277178      10000        10000          10000.0    36   13.49%   \n",
       "5    1311441       5000         5000           5000.0    36    7.90%   \n",
       "\n",
       "   installment grade sub_grade             emp_title  ... total_pymnt_inv  \\\n",
       "0       162.87     B        B2                   NaN  ...         5833.84   \n",
       "1        59.83     C        C4                 Ryder  ...         1008.71   \n",
       "2        84.33     C        C5                   NaN  ...         3005.67   \n",
       "3       339.31     C        C1   AIR RESOURCES BOARD  ...        12231.89   \n",
       "5       156.46     A        A4  Veolia Transportaton  ...         5632.21   \n",
       "\n",
       "  total_rec_prncp  total_rec_int total_rec_late_fee recoveries  \\\n",
       "0         5000.00         863.16               0.00       0.00   \n",
       "1          456.46         435.17               0.00     117.08   \n",
       "2         2400.00         605.67               0.00       0.00   \n",
       "3        10000.00        2214.92              16.97       0.00   \n",
       "5         5000.00         632.21               0.00       0.00   \n",
       "\n",
       "  collection_recovery_fee last_pymnt_d last_pymnt_amnt last_credit_pull_d  \\\n",
       "0                    0.00       Jan-15          171.62             May-16   \n",
       "1                    1.11       Apr-13          119.66             Sep-13   \n",
       "2                    0.00       Jun-14          649.91             May-16   \n",
       "3                    0.00       Jan-15          357.48             Apr-16   \n",
       "5                    0.00       Jan-15          161.03             Jan-16   \n",
       "\n",
       "  pub_rec_bankruptcies  \n",
       "0                  0.0  \n",
       "1                  0.0  \n",
       "2                  0.0  \n",
       "3                  0.0  \n",
       "5                  0.0  \n",
       "\n",
       "[5 rows x 42 columns]"
      ]
     },
     "execution_count": 17,
     "metadata": {},
     "output_type": "execute_result"
    }
   ],
   "source": [
    "loan_df.head()"
   ]
  },
  {
   "cell_type": "code",
   "execution_count": 18,
   "metadata": {},
   "outputs": [],
   "source": [
    "loan_df['loan_status_flag'] = loan_df['loan_status'].apply(lambda x: 0 if x=='Charged Off' else 1)"
   ]
  },
  {
   "cell_type": "code",
   "execution_count": 19,
   "metadata": {},
   "outputs": [
    {
     "name": "stdout",
     "output_type": "stream",
     "text": [
      "1    88.909128\n",
      "0    11.090872\n",
      "Name: loan_status_flag, dtype: float64\n"
     ]
    },
    {
     "data": {
      "image/png": "[encoded data removed]",
      "text/plain": [
       "<Figure size 432x288 with 1 Axes>"
      ]
     },
     "metadata": {
      "needs_background": "light"
     },
     "output_type": "display_data"
    }
   ],
   "source": [
    "#The loan tenure of charged off vs fully repoaid in 36 months\n",
    "loan_df_36 = loan_df[loan_df.term == 36]\n",
    "sns.histplot(loan_df_36.loan_status_flag)\n",
    "plt.xlabel('Loan Status for 36 months')\n",
    "print(loan_df_36.loan_status_flag.value_counts(normalize = True)*100)"
   ]
  },
  {
   "cell_type": "code",
   "execution_count": 20,
   "metadata": {},
   "outputs": [
    {
     "name": "stdout",
     "output_type": "stream",
     "text": [
      "1    74.686215\n",
      "0    25.313785\n",
      "Name: loan_status_flag, dtype: float64\n"
     ]
    },
    {
     "data": {
      "image/png": "[encoded data removed]",
      "text/plain": [
       "<Figure size 432x288 with 1 Axes>"
      ]
     },
     "metadata": {
      "needs_background": "light"
     },
     "output_type": "display_data"
    }
   ],
   "source": [
    "#The loan tenure of charged off vs fully repoaid in 60 months\n",
    "loan_df_60 = loan_df[loan_df.term == 60]\n",
    "sns.histplot(loan_df_60.loan_status_flag)\n",
    "plt.xlabel('Loan Status for 60 months')\n",
    "print(loan_df_60.loan_status_flag.value_counts(normalize = True)*100)"
   ]
  },
  {
   "cell_type": "markdown",
   "metadata": {},
   "source": [
    "60 months Term of the loan shows higher Charged off percentage"
   ]
  },
  {
   "cell_type": "code",
   "execution_count": 21,
   "metadata": {},
   "outputs": [
    {
     "data": {
      "text/plain": [
       "RENT        47.904192\n",
       "MORTGAGE    44.122145\n",
       "OWN          7.711849\n",
       "OTHER        0.254037\n",
       "NONE         0.007777\n",
       "Name: home_ownership, dtype: float64"
      ]
     },
     "execution_count": 21,
     "metadata": {},
     "output_type": "execute_result"
    }
   ],
   "source": [
    "loan_df.home_ownership.value_counts(normalize = True)*100"
   ]
  },
  {
   "cell_type": "code",
   "execution_count": 22,
   "metadata": {},
   "outputs": [
    {
     "data": {
      "text/plain": [
       "RENT        47.904192\n",
       "MORTGAGE    44.122145\n",
       "OWN          7.711849\n",
       "OTHER        0.261814\n",
       "Name: home_ownership, dtype: float64"
      ]
     },
     "execution_count": 22,
     "metadata": {},
     "output_type": "execute_result"
    }
   ],
   "source": [
    "# replacing 'NONE' with 'OTHER'\n",
    "loan_df.home_ownership.replace('NONE','OTHER', inplace =True)\n",
    "loan_df.home_ownership.value_counts(normalize = True)*100"
   ]
  },
  {
   "cell_type": "code",
   "execution_count": 23,
   "metadata": {},
   "outputs": [
    {
     "data": {
      "text/plain": [
       "<matplotlib.axes._subplots.AxesSubplot at 0x1af0c9f0d08>"
      ]
     },
     "execution_count": 23,
     "metadata": {},
     "output_type": "execute_result"
    },
    {
     "data": {
      "image/png": "[encoded data removed]",
      "text/plain": [
       "<Figure size 432x288 with 1 Axes>"
      ]
     },
     "metadata": {
      "needs_background": "light"
     },
     "output_type": "display_data"
    }
   ],
   "source": [
    "sns.histplot(loan_df.home_ownership)"
   ]
  },
  {
   "cell_type": "markdown",
   "metadata": {},
   "source": [
    "### Defining a Function for Analyzing the Columns with 'Charged Off', 'Fully Paid' and 'Both Charged Off and 'Fully Paid'"
   ]
  },
  {
   "cell_type": "code",
   "execution_count": 24,
   "metadata": {},
   "outputs": [],
   "source": [
    "def plot_hist(df_nm,col_nm,status_flag):\n",
    "    df_nm.sort_values(col_nm, ascending = False, inplace = True)\n",
    "    if status_flag != 3:\n",
    "        df_nm = df_nm[df_nm.loan_status_flag == status_flag]\n",
    "    print(df_nm[col_nm].value_counts())\n",
    "    print(\"============================================\")\n",
    "    print(df_nm[col_nm].value_counts(normalize=True)*100)\n",
    "    \n",
    "    plt.figure(figsize = (30,5))\n",
    "    sns.histplot(df_nm[col_nm])\n",
    "    if(status_flag == 1 ):\n",
    "        plt.xlabel(col_nm +' fully paid')\n",
    "    elif (status_flag == 0 ) :\n",
    "        plt.xlabel(col_nm +' charged off') \n",
    "    elif (status_flag == 3):\n",
    "        plt.xlabel(col_nm)"
   ]
  },
  {
   "cell_type": "code",
   "execution_count": 25,
   "metadata": {},
   "outputs": [
    {
     "name": "stdout",
     "output_type": "stream",
     "text": [
      "RENT        15641\n",
      "MORTGAGE    14694\n",
      "OWN          2532\n",
      "OTHER          83\n",
      "Name: home_ownership, dtype: int64\n",
      "============================================\n",
      "RENT        47.468892\n",
      "MORTGAGE    44.594841\n",
      "OWN          7.684370\n",
      "OTHER        0.251897\n",
      "Name: home_ownership, dtype: float64\n"
     ]
    },
    {
     "data": {
      "image/png": "[encoded data removed]",
      "text/plain": [
       "<Figure size 2160x360 with 1 Axes>"
      ]
     },
     "metadata": {
      "needs_background": "light"
     },
     "output_type": "display_data"
    }
   ],
   "source": [
    "  # fully paid\n",
    "    plot_hist(loan_df,'home_ownership',1)   "
   ]
  },
  {
   "cell_type": "code",
   "execution_count": 26,
   "metadata": {},
   "outputs": [
    {
     "name": "stdout",
     "output_type": "stream",
     "text": [
      "RENT        2839\n",
      "MORTGAGE    2327\n",
      "OWN          443\n",
      "OTHER         18\n",
      "Name: home_ownership, dtype: int64\n",
      "============================================\n",
      "RENT        50.453172\n",
      "MORTGAGE    41.354185\n",
      "OWN          7.872756\n",
      "OTHER        0.319886\n",
      "Name: home_ownership, dtype: float64\n"
     ]
    },
    {
     "data": {
      "image/png": "[encoded data removed]",
      "text/plain": [
       "<Figure size 2160x360 with 1 Axes>"
      ]
     },
     "metadata": {
      "needs_background": "light"
     },
     "output_type": "display_data"
    }
   ],
   "source": [
    "plot_hist(loan_df,'home_ownership',0) \n",
    "#Rental & Mortgage have higher probability of charge off than rest categories\n",
    "#Percentage Distribution provided below"
   ]
  },
  {
   "cell_type": "code",
   "execution_count": 27,
   "metadata": {},
   "outputs": [
    {
     "name": "stdout",
     "output_type": "stream",
     "text": [
      "debt_consolidation    18055\n",
      "credit_card            5027\n",
      "other                  3865\n",
      "home_improvement       2875\n",
      "major_purchase         2150\n",
      "small_business         1754\n",
      "car                    1499\n",
      "wedding                 926\n",
      "medical                 681\n",
      "moving                  576\n",
      "vacation                375\n",
      "house                   367\n",
      "educational             325\n",
      "renewable_energy        102\n",
      "Name: purpose, dtype: int64\n",
      "============================================\n",
      "debt_consolidation    46.802499\n",
      "credit_card           13.031081\n",
      "other                 10.018923\n",
      "home_improvement       7.452627\n",
      "major_purchase         5.573269\n",
      "small_business         4.546751\n",
      "car                    3.885735\n",
      "wedding                2.400394\n",
      "medical                1.765301\n",
      "moving                 1.493118\n",
      "vacation               0.972082\n",
      "house                  0.951344\n",
      "educational            0.842471\n",
      "renewable_energy       0.264406\n",
      "Name: purpose, dtype: float64\n"
     ]
    },
    {
     "data": {
      "image/png": "[encoded data removed]",
      "text/plain": [
       "<Figure size 2160x360 with 1 Axes>"
      ]
     },
     "metadata": {
      "needs_background": "light"
     },
     "output_type": "display_data"
    }
   ],
   "source": [
    "#loan_df.purpose.value_counts(normalize = True)*100\n",
    "plot_hist(loan_df,'purpose',3)"
   ]
  },
  {
   "cell_type": "code",
   "execution_count": 28,
   "metadata": {},
   "outputs": [
    {
     "name": "stdout",
     "output_type": "stream",
     "text": [
      "debt_consolidation    15288\n",
      "credit_card            4485\n",
      "other                  3232\n",
      "home_improvement       2528\n",
      "major_purchase         1928\n",
      "car                    1339\n",
      "small_business         1279\n",
      "wedding                 830\n",
      "medical                 575\n",
      "moving                  484\n",
      "vacation                322\n",
      "house                   308\n",
      "educational             269\n",
      "renewable_energy         83\n",
      "Name: purpose, dtype: int64\n",
      "============================================\n",
      "debt_consolidation    46.397572\n",
      "credit_card           13.611533\n",
      "other                  9.808801\n",
      "home_improvement       7.672231\n",
      "major_purchase         5.851290\n",
      "car                    4.063733\n",
      "small_business         3.881639\n",
      "wedding                2.518968\n",
      "medical                1.745068\n",
      "moving                 1.468892\n",
      "vacation               0.977238\n",
      "house                  0.934750\n",
      "educational            0.816388\n",
      "renewable_energy       0.251897\n",
      "Name: purpose, dtype: float64\n"
     ]
    },
    {
     "data": {
      "image/png": "[encoded data removed]",
      "text/plain": [
       "<Figure size 2160x360 with 1 Axes>"
      ]
     },
     "metadata": {
      "needs_background": "light"
     },
     "output_type": "display_data"
    }
   ],
   "source": [
    "plot_hist(loan_df,'purpose',1) "
   ]
  },
  {
   "cell_type": "code",
   "execution_count": 29,
   "metadata": {},
   "outputs": [
    {
     "name": "stdout",
     "output_type": "stream",
     "text": [
      "debt_consolidation    2767\n",
      "other                  633\n",
      "credit_card            542\n",
      "small_business         475\n",
      "home_improvement       347\n",
      "major_purchase         222\n",
      "car                    160\n",
      "medical                106\n",
      "wedding                 96\n",
      "moving                  92\n",
      "house                   59\n",
      "educational             56\n",
      "vacation                53\n",
      "renewable_energy        19\n",
      "Name: purpose, dtype: int64\n",
      "============================================\n",
      "debt_consolidation    49.173627\n",
      "other                 11.249334\n",
      "credit_card            9.632131\n",
      "small_business         8.441443\n",
      "home_improvement       6.166696\n",
      "major_purchase         3.945264\n",
      "car                    2.843433\n",
      "medical                1.883775\n",
      "wedding                1.706060\n",
      "moving                 1.634974\n",
      "house                  1.048516\n",
      "educational            0.995202\n",
      "vacation               0.941887\n",
      "renewable_energy       0.337658\n",
      "Name: purpose, dtype: float64\n"
     ]
    },
    {
     "data": {
      "image/png": "[encoded data removed]",
      "text/plain": [
       "<Figure size 2160x360 with 1 Axes>"
      ]
     },
     "metadata": {
      "needs_background": "light"
     },
     "output_type": "display_data"
    }
   ],
   "source": [
    "plot_hist(loan_df,'purpose',0) \n",
    "#From the below plot , it is observed that around 49% of the charge off has happened due to debt_consolidation"
   ]
  },
  {
   "cell_type": "code",
   "execution_count": 30,
   "metadata": {},
   "outputs": [
    {
     "name": "stdout",
     "output_type": "stream",
     "text": [
      "Not Verified       16694\n",
      "Verified           12206\n",
      "Source Verified     9677\n",
      "Name: verification_status, dtype: int64\n",
      "============================================\n",
      "Not Verified       43.274490\n",
      "Verified           31.640615\n",
      "Source Verified    25.084895\n",
      "Name: verification_status, dtype: float64\n"
     ]
    },
    {
     "data": {
      "image/png": "[encoded data removed]",
      "text/plain": [
       "<Figure size 2160x360 with 1 Axes>"
      ]
     },
     "metadata": {
      "needs_background": "light"
     },
     "output_type": "display_data"
    }
   ],
   "source": [
    "#sns.histplot(loan_df.verification_status)\n",
    "plot_hist(loan_df,'verification_status',3)"
   ]
  },
  {
   "cell_type": "code",
   "execution_count": 31,
   "metadata": {},
   "outputs": [
    {
     "name": "stdout",
     "output_type": "stream",
     "text": [
      "Not Verified       14552\n",
      "Verified           10155\n",
      "Source Verified     8243\n",
      "Name: verification_status, dtype: int64\n",
      "============================================\n",
      "Not Verified       44.163885\n",
      "Verified           30.819423\n",
      "Source Verified    25.016692\n",
      "Name: verification_status, dtype: float64\n"
     ]
    },
    {
     "data": {
      "image/png": "[encoded data removed]",
      "text/plain": [
       "<Figure size 2160x360 with 1 Axes>"
      ]
     },
     "metadata": {
      "needs_background": "light"
     },
     "output_type": "display_data"
    }
   ],
   "source": [
    "#sns.histplot(loan_df.verification_status)\n",
    "plot_hist(loan_df,'verification_status',1)"
   ]
  },
  {
   "cell_type": "code",
   "execution_count": 32,
   "metadata": {},
   "outputs": [
    {
     "name": "stdout",
     "output_type": "stream",
     "text": [
      "Not Verified       2142\n",
      "Verified           2051\n",
      "Source Verified    1434\n",
      "Name: verification_status, dtype: int64\n",
      "============================================\n",
      "Not Verified       38.066465\n",
      "Verified           36.449262\n",
      "Source Verified    25.484272\n",
      "Name: verification_status, dtype: float64\n"
     ]
    },
    {
     "data": {
      "image/png": "[encoded data removed]",
      "text/plain": [
       "<Figure size 2160x360 with 1 Axes>"
      ]
     },
     "metadata": {
      "needs_background": "light"
     },
     "output_type": "display_data"
    }
   ],
   "source": [
    "plot_hist(loan_df,'verification_status',0)\n",
    "#Can't be drawn any conclusion for now"
   ]
  },
  {
   "cell_type": "code",
   "execution_count": 33,
   "metadata": {},
   "outputs": [
    {
     "name": "stdout",
     "output_type": "stream",
     "text": [
      "B    11675\n",
      "A    10045\n",
      "C     7834\n",
      "D     5085\n",
      "E     2663\n",
      "F      976\n",
      "G      299\n",
      "Name: grade, dtype: int64\n",
      "============================================\n",
      "B    30.264147\n",
      "A    26.038831\n",
      "C    20.307437\n",
      "D    13.181429\n",
      "E     6.903077\n",
      "F     2.530005\n",
      "G     0.775073\n",
      "Name: grade, dtype: float64\n"
     ]
    },
    {
     "data": {
      "image/png": "[encoded data removed]",
      "text/plain": [
       "<Figure size 2160x360 with 1 Axes>"
      ]
     },
     "metadata": {
      "needs_background": "light"
     },
     "output_type": "display_data"
    }
   ],
   "source": [
    "# subgrade\n",
    "plot_hist(loan_df,'grade',3)"
   ]
  },
  {
   "cell_type": "code",
   "execution_count": 34,
   "metadata": {},
   "outputs": [
    {
     "name": "stdout",
     "output_type": "stream",
     "text": [
      "B    10250\n",
      "A     9443\n",
      "C     6487\n",
      "D     3967\n",
      "E     1948\n",
      "F      657\n",
      "G      198\n",
      "Name: grade, dtype: int64\n",
      "============================================\n",
      "B    31.107739\n",
      "A    28.658574\n",
      "C    19.687405\n",
      "D    12.039454\n",
      "E     5.911988\n",
      "F     1.993930\n",
      "G     0.600910\n",
      "Name: grade, dtype: float64\n"
     ]
    },
    {
     "data": {
      "image/png": "[encoded data removed]",
      "text/plain": [
       "<Figure size 2160x360 with 1 Axes>"
      ]
     },
     "metadata": {
      "needs_background": "light"
     },
     "output_type": "display_data"
    }
   ],
   "source": [
    "plot_hist(loan_df,'grade',1)"
   ]
  },
  {
   "cell_type": "code",
   "execution_count": 35,
   "metadata": {},
   "outputs": [
    {
     "name": "stdout",
     "output_type": "stream",
     "text": [
      "B    1425\n",
      "C    1347\n",
      "D    1118\n",
      "E     715\n",
      "A     602\n",
      "F     319\n",
      "G     101\n",
      "Name: grade, dtype: int64\n",
      "============================================\n",
      "B    25.324329\n",
      "C    23.938155\n",
      "D    19.868491\n",
      "E    12.706593\n",
      "A    10.698418\n",
      "F     5.669095\n",
      "G     1.794917\n",
      "Name: grade, dtype: float64\n"
     ]
    },
    {
     "data": {
      "image/png": "[encoded data removed]",
      "text/plain": [
       "<Figure size 2160x360 with 1 Axes>"
      ]
     },
     "metadata": {
      "needs_background": "light"
     },
     "output_type": "display_data"
    }
   ],
   "source": [
    "plot_hist(loan_df,'grade',0)"
   ]
  },
  {
   "cell_type": "markdown",
   "metadata": {},
   "source": [
    "Observation on 'Grade' categories: Most of the Charged-off are observed in 'B' and 'C' Grades, almost 50% of the Chargeoff Population"
   ]
  },
  {
   "cell_type": "code",
   "execution_count": 36,
   "metadata": {
    "scrolled": true
   },
   "outputs": [
    {
     "data": {
      "text/plain": [
       "array(['1 year', '10+ years', '3 years', '4 years', '< 1 year', '6 years',\n",
       "       '2 years', '9 years', '8 years', '5 years', '7 years', nan],\n",
       "      dtype=object)"
      ]
     },
     "execution_count": 36,
     "metadata": {},
     "output_type": "execute_result"
    }
   ],
   "source": [
    "#Employement Length\n",
    "loan_df.emp_length.unique()"
   ]
  },
  {
   "cell_type": "code",
   "execution_count": 37,
   "metadata": {},
   "outputs": [
    {
     "name": "stdout",
     "output_type": "stream",
     "text": [
      "['1 year' '10 years' '3 years' '4 years' '0 years' '6 years' '2 years'\n",
      " '9 years' '8 years' '5 years' '7 years' nan]\n",
      "[ 1. 10.  3.  4.  0.  6.  2.  9.  8.  5.  7. nan]\n"
     ]
    }
   ],
   "source": [
    "# converting the 'emp_length' column to int from string.\n",
    "loan_df['emp_length'].replace('< 1 year', '0 years', inplace = True)\n",
    "loan_df['emp_length'].replace('10+ years', '10 years', inplace = True)\n",
    "#loan_df['emp_length'] = loan_df['emp_length'].apply(lambda x: (x.split(' ')[0]))\n",
    "print(loan_df['emp_length'].unique())\n",
    "loan_df['emp_length'] = loan_df['emp_length'].apply(lambda x: x if pd.isnull(x) else float(x.split(' ')[0]))\n",
    "print(loan_df['emp_length'].unique())"
   ]
  },
  {
   "cell_type": "code",
   "execution_count": 38,
   "metadata": {},
   "outputs": [
    {
     "name": "stdout",
     "output_type": "stream",
     "text": [
      "count    37544.000000\n",
      "mean         4.940976\n",
      "std          3.557082\n",
      "min          0.000000\n",
      "25%          2.000000\n",
      "50%          4.000000\n",
      "75%          9.000000\n",
      "max         10.000000\n",
      "Name: emp_length, dtype: float64\n"
     ]
    },
    {
     "data": {
      "text/plain": [
       "<matplotlib.axes._subplots.AxesSubplot at 0x1af0d37bb88>"
      ]
     },
     "execution_count": 38,
     "metadata": {},
     "output_type": "execute_result"
    },
    {
     "data": {
      "image/png": "[encoded data removed]",
      "text/plain": [
       "<Figure size 720x360 with 1 Axes>"
      ]
     },
     "metadata": {
      "needs_background": "light"
     },
     "output_type": "display_data"
    }
   ],
   "source": [
    "print(loan_df['emp_length'].describe())\n",
    "plt.figure(figsize = (10,5))\n",
    "sns.histplot(loan_df.emp_length)"
   ]
  },
  {
   "cell_type": "code",
   "execution_count": 39,
   "metadata": {},
   "outputs": [
    {
     "name": "stdout",
     "output_type": "stream",
     "text": [
      "10.0    1331\n",
      "0.0      639\n",
      "2.0      567\n",
      "3.0      555\n",
      "4.0      462\n",
      "5.0      458\n",
      "1.0      456\n",
      "6.0      307\n",
      "7.0      263\n",
      "8.0      203\n",
      "9.0      158\n",
      "Name: emp_length, dtype: int64\n",
      "============================================\n",
      "10.0    24.652713\n",
      "0.0     11.835525\n",
      "2.0     10.501945\n",
      "3.0     10.279681\n",
      "4.0      8.557140\n",
      "5.0      8.483052\n",
      "1.0      8.446009\n",
      "6.0      5.686238\n",
      "7.0      4.871272\n",
      "8.0      3.759956\n",
      "9.0      2.926468\n",
      "Name: emp_length, dtype: float64\n"
     ]
    },
    {
     "data": {
      "image/png": "[encoded data removed]",
      "text/plain": [
       "<Figure size 2160x360 with 1 Axes>"
      ]
     },
     "metadata": {
      "needs_background": "light"
     },
     "output_type": "display_data"
    }
   ],
   "source": [
    "plot_hist(loan_df,'emp_length',0)"
   ]
  },
  {
   "cell_type": "code",
   "execution_count": 40,
   "metadata": {},
   "outputs": [
    {
     "name": "stdout",
     "output_type": "stream",
     "text": [
      "10.0    7157\n",
      "0.0     3869\n",
      "2.0     3724\n",
      "3.0     3457\n",
      "4.0     2880\n",
      "5.0     2736\n",
      "1.0     2713\n",
      "6.0     1861\n",
      "7.0     1448\n",
      "8.0     1232\n",
      "9.0     1068\n",
      "Name: emp_length, dtype: int64\n",
      "============================================\n",
      "10.0    22.264738\n",
      "0.0     12.036086\n",
      "2.0     11.585005\n",
      "3.0     10.754394\n",
      "4.0      8.959403\n",
      "5.0      8.511433\n",
      "1.0      8.439882\n",
      "6.0      5.789392\n",
      "7.0      4.504589\n",
      "8.0      3.832633\n",
      "9.0      3.322445\n",
      "Name: emp_length, dtype: float64\n"
     ]
    },
    {
     "data": {
      "image/png": "[encoded data removed]",
      "text/plain": [
       "<Figure size 2160x360 with 1 Axes>"
      ]
     },
     "metadata": {
      "needs_background": "light"
     },
     "output_type": "display_data"
    }
   ],
   "source": [
    "plot_hist(loan_df,'emp_length',1)"
   ]
  },
  {
   "cell_type": "markdown",
   "metadata": {},
   "source": [
    "Observation: Employment length is not providing any insights here, as borrowers with 10+ years of employment are more in both the population 'Fully Paid' and 'Charged-off'"
   ]
  },
  {
   "cell_type": "code",
   "execution_count": 41,
   "metadata": {},
   "outputs": [
    {
     "name": "stdout",
     "output_type": "stream",
     "text": [
      "60000.0    3.800192\n",
      "50000.0    2.667392\n",
      "40000.0    2.216347\n",
      "45000.0    2.102289\n",
      "30000.0    2.094512\n",
      "             ...   \n",
      "78708.0    0.002592\n",
      "47544.0    0.002592\n",
      "35292.0    0.002592\n",
      "77976.0    0.002592\n",
      "8472.0     0.002592\n",
      "Name: annual_inc, Length: 5215, dtype: float64\n"
     ]
    },
    {
     "data": {
      "text/plain": [
       "<matplotlib.axes._subplots.AxesSubplot at 0x1af0c964048>"
      ]
     },
     "execution_count": 41,
     "metadata": {},
     "output_type": "execute_result"
    },
    {
     "data": {
      "image/png": "[encoded data removed]",
      "text/plain": [
       "<Figure size 432x288 with 1 Axes>"
      ]
     },
     "metadata": {
      "needs_background": "light"
     },
     "output_type": "display_data"
    }
   ],
   "source": [
    "print(loan_df.annual_inc.value_counts(normalize = True)*100)\n",
    "sns.boxplot(loan_df['annual_inc'])"
   ]
  },
  {
   "cell_type": "code",
   "execution_count": 42,
   "metadata": {},
   "outputs": [
    {
     "data": {
      "text/plain": [
       "<matplotlib.axes._subplots.AxesSubplot at 0x1af0d40ec88>"
      ]
     },
     "execution_count": 42,
     "metadata": {},
     "output_type": "execute_result"
    },
    {
     "data": {
      "image/png": "[encoded data removed]",
      "text/plain": [
       "<Figure size 432x288 with 1 Axes>"
      ]
     },
     "metadata": {
      "needs_background": "light"
     },
     "output_type": "display_data"
    }
   ],
   "source": [
    "#converting 'annual_inc' to 'log_annual_inc', i.e. log of annual income inorder to fit it into box-plot and check outliers\n",
    "loan_df['log_annual_inc'] = loan_df['annual_inc'].apply(lambda x: np.log10(x))\n",
    "sns.boxplot(loan_df['log_annual_inc'])\n"
   ]
  },
  {
   "cell_type": "code",
   "execution_count": 52,
   "metadata": {},
   "outputs": [
    {
     "data": {
      "text/html": [
       "<div>\n",
       "<style scoped>\n",
       "    .dataframe tbody tr th:only-of-type {\n",
       "        vertical-align: middle;\n",
       "    }\n",
       "\n",
       "    .dataframe tbody tr th {\n",
       "        vertical-align: top;\n",
       "    }\n",
       "\n",
       "    .dataframe thead th {\n",
       "        text-align: right;\n",
       "    }\n",
       "</style>\n",
       "<table border=\"1\" class=\"dataframe\">\n",
       "  <thead>\n",
       "    <tr style=\"text-align: right;\">\n",
       "      <th></th>\n",
       "      <th>count</th>\n",
       "      <th>mean</th>\n",
       "      <th>std</th>\n",
       "      <th>min</th>\n",
       "      <th>25%</th>\n",
       "      <th>50%</th>\n",
       "      <th>75%</th>\n",
       "      <th>max</th>\n",
       "    </tr>\n",
       "    <tr>\n",
       "      <th>loan_status</th>\n",
       "      <th></th>\n",
       "      <th></th>\n",
       "      <th></th>\n",
       "      <th></th>\n",
       "      <th></th>\n",
       "      <th></th>\n",
       "      <th></th>\n",
       "      <th></th>\n",
       "    </tr>\n",
       "  </thead>\n",
       "  <tbody>\n",
       "    <tr>\n",
       "      <td>Charged Off</td>\n",
       "      <td>5627.0</td>\n",
       "      <td>4.723308</td>\n",
       "      <td>0.243184</td>\n",
       "      <td>3.61066</td>\n",
       "      <td>4.568202</td>\n",
       "      <td>4.724276</td>\n",
       "      <td>4.875061</td>\n",
       "      <td>6.096910</td>\n",
       "    </tr>\n",
       "    <tr>\n",
       "      <td>Fully Paid</td>\n",
       "      <td>32950.0</td>\n",
       "      <td>4.770893</td>\n",
       "      <td>0.242443</td>\n",
       "      <td>3.60206</td>\n",
       "      <td>4.614188</td>\n",
       "      <td>4.778151</td>\n",
       "      <td>4.924279</td>\n",
       "      <td>6.778151</td>\n",
       "    </tr>\n",
       "  </tbody>\n",
       "</table>\n",
       "</div>"
      ],
      "text/plain": [
       "               count      mean       std      min       25%       50%  \\\n",
       "loan_status                                                             \n",
       "Charged Off   5627.0  4.723308  0.243184  3.61066  4.568202  4.724276   \n",
       "Fully Paid   32950.0  4.770893  0.242443  3.60206  4.614188  4.778151   \n",
       "\n",
       "                  75%       max  \n",
       "loan_status                      \n",
       "Charged Off  4.875061  6.096910  \n",
       "Fully Paid   4.924279  6.778151  "
      ]
     },
     "execution_count": 52,
     "metadata": {},
     "output_type": "execute_result"
    }
   ],
   "source": [
    "loan_df.groupby('loan_status')['log_annual_inc'].describe()"
   ]
  },
  {
   "cell_type": "code",
   "execution_count": 53,
   "metadata": {},
   "outputs": [
    {
     "data": {
      "text/plain": [
       "{'whiskers': [<matplotlib.lines.Line2D at 0x1af0e9a9148>,\n",
       "  <matplotlib.lines.Line2D at 0x1af0e9a9e88>],\n",
       " 'caps': [<matplotlib.lines.Line2D at 0x1af0e9a9e08>,\n",
       "  <matplotlib.lines.Line2D at 0x1af0e9a9208>],\n",
       " 'boxes': [<matplotlib.lines.Line2D at 0x1af0e9a9488>],\n",
       " 'medians': [<matplotlib.lines.Line2D at 0x1af0e9a12c8>],\n",
       " 'fliers': [<matplotlib.lines.Line2D at 0x1af0abd4e08>],\n",
       " 'means': []}"
      ]
     },
     "execution_count": 53,
     "metadata": {},
     "output_type": "execute_result"
    },
    {
     "data": {
      "image/png": "[encoded data removed]",
      "text/plain": [
       "<Figure size 432x288 with 1 Axes>"
      ]
     },
     "metadata": {
      "needs_background": "light"
     },
     "output_type": "display_data"
    }
   ],
   "source": [
    "# Fully Paid\n",
    "loan_df_fp = loan_df[loan_df['loan_status_flag'] == 1]\n",
    "plt.boxplot(loan_df_fp['log_annual_inc'])"
   ]
  },
  {
   "cell_type": "code",
   "execution_count": 54,
   "metadata": {},
   "outputs": [
    {
     "data": {
      "text/plain": [
       "{'whiskers': [<matplotlib.lines.Line2D at 0x1af0c7ad948>,\n",
       "  <matplotlib.lines.Line2D at 0x1af0cc63e48>],\n",
       " 'caps': [<matplotlib.lines.Line2D at 0x1af0c7ada88>,\n",
       "  <matplotlib.lines.Line2D at 0x1af0c7adb88>],\n",
       " 'boxes': [<matplotlib.lines.Line2D at 0x1af0e909048>],\n",
       " 'medians': [<matplotlib.lines.Line2D at 0x1af0e9ae248>],\n",
       " 'fliers': [<matplotlib.lines.Line2D at 0x1af0e9ae188>],\n",
       " 'means': []}"
      ]
     },
     "execution_count": 54,
     "metadata": {},
     "output_type": "execute_result"
    },
    {
     "data": {
      "image/png": "[encoded data removed]",
      "text/plain": [
       "<Figure size 432x288 with 1 Axes>"
      ]
     },
     "metadata": {
      "needs_background": "light"
     },
     "output_type": "display_data"
    }
   ],
   "source": [
    "# Charged Off\n",
    "loan_df_ci = loan_df[loan_df['loan_status_flag'] == 0]\n",
    "plt.boxplot(loan_df_ci['log_annual_inc'])"
   ]
  },
  {
   "cell_type": "markdown",
   "metadata": {},
   "source": [
    "Observation: Charged Off accounts have less spread of Income when compared to Fully Paid accounts, so it shows higher income accounts are less likely to Default."
   ]
  },
  {
   "cell_type": "code",
   "execution_count": 55,
   "metadata": {},
   "outputs": [
    {
     "data": {
      "text/plain": [
       "Fully Paid     85.413588\n",
       "Charged Off    14.586412\n",
       "Name: loan_status, dtype: float64"
      ]
     },
     "execution_count": 55,
     "metadata": {},
     "output_type": "execute_result"
    }
   ],
   "source": [
    "# distribution of 'loan_status' of the loan\n",
    "loan_df.loan_status.value_counts(normalize = True)*100"
   ]
  },
  {
   "cell_type": "code",
   "execution_count": 56,
   "metadata": {
    "scrolled": true
   },
   "outputs": [
    {
     "ename": "AttributeError",
     "evalue": "'float' object has no attribute 'strip'",
     "output_type": "error",
     "traceback": [
      "\u001b[1;31m---------------------------------------------------------------------------\u001b[0m",
      "\u001b[1;31mAttributeError\u001b[0m                            Traceback (most recent call last)",
      "\u001b[1;32m<ipython-input-56-3b3850d7a485>\u001b[0m in \u001b[0;36m<module>\u001b[1;34m\u001b[0m\n\u001b[0;32m      1\u001b[0m \u001b[1;31m# since 'int_rate' is a string datatype, converting it into float\u001b[0m\u001b[1;33m\u001b[0m\u001b[1;33m\u001b[0m\u001b[1;33m\u001b[0m\u001b[0m\n\u001b[1;32m----> 2\u001b[1;33m \u001b[0mloan_df\u001b[0m\u001b[1;33m.\u001b[0m\u001b[0mint_rate\u001b[0m \u001b[1;33m=\u001b[0m \u001b[0mloan_df\u001b[0m\u001b[1;33m.\u001b[0m\u001b[0mint_rate\u001b[0m\u001b[1;33m.\u001b[0m\u001b[0mapply\u001b[0m\u001b[1;33m(\u001b[0m\u001b[1;32mlambda\u001b[0m \u001b[0mx\u001b[0m\u001b[1;33m:\u001b[0m \u001b[0mfloat\u001b[0m\u001b[1;33m(\u001b[0m\u001b[0mx\u001b[0m\u001b[1;33m.\u001b[0m\u001b[0mstrip\u001b[0m\u001b[1;33m(\u001b[0m\u001b[1;34m'%'\u001b[0m\u001b[1;33m)\u001b[0m\u001b[1;33m)\u001b[0m\u001b[1;33m)\u001b[0m\u001b[1;33m\u001b[0m\u001b[1;33m\u001b[0m\u001b[0m\n\u001b[0m",
      "\u001b[1;32m~\\Anaconda3\\lib\\site-packages\\pandas\\core\\series.py\u001b[0m in \u001b[0;36mapply\u001b[1;34m(self, func, convert_dtype, args, **kwds)\u001b[0m\n\u001b[0;32m   4040\u001b[0m             \u001b[1;32melse\u001b[0m\u001b[1;33m:\u001b[0m\u001b[1;33m\u001b[0m\u001b[1;33m\u001b[0m\u001b[0m\n\u001b[0;32m   4041\u001b[0m                 \u001b[0mvalues\u001b[0m \u001b[1;33m=\u001b[0m \u001b[0mself\u001b[0m\u001b[1;33m.\u001b[0m\u001b[0mastype\u001b[0m\u001b[1;33m(\u001b[0m\u001b[0mobject\u001b[0m\u001b[1;33m)\u001b[0m\u001b[1;33m.\u001b[0m\u001b[0mvalues\u001b[0m\u001b[1;33m\u001b[0m\u001b[1;33m\u001b[0m\u001b[0m\n\u001b[1;32m-> 4042\u001b[1;33m                 \u001b[0mmapped\u001b[0m \u001b[1;33m=\u001b[0m \u001b[0mlib\u001b[0m\u001b[1;33m.\u001b[0m\u001b[0mmap_infer\u001b[0m\u001b[1;33m(\u001b[0m\u001b[0mvalues\u001b[0m\u001b[1;33m,\u001b[0m \u001b[0mf\u001b[0m\u001b[1;33m,\u001b[0m \u001b[0mconvert\u001b[0m\u001b[1;33m=\u001b[0m\u001b[0mconvert_dtype\u001b[0m\u001b[1;33m)\u001b[0m\u001b[1;33m\u001b[0m\u001b[1;33m\u001b[0m\u001b[0m\n\u001b[0m\u001b[0;32m   4043\u001b[0m \u001b[1;33m\u001b[0m\u001b[0m\n\u001b[0;32m   4044\u001b[0m         \u001b[1;32mif\u001b[0m \u001b[0mlen\u001b[0m\u001b[1;33m(\u001b[0m\u001b[0mmapped\u001b[0m\u001b[1;33m)\u001b[0m \u001b[1;32mand\u001b[0m \u001b[0misinstance\u001b[0m\u001b[1;33m(\u001b[0m\u001b[0mmapped\u001b[0m\u001b[1;33m[\u001b[0m\u001b[1;36m0\u001b[0m\u001b[1;33m]\u001b[0m\u001b[1;33m,\u001b[0m \u001b[0mSeries\u001b[0m\u001b[1;33m)\u001b[0m\u001b[1;33m:\u001b[0m\u001b[1;33m\u001b[0m\u001b[1;33m\u001b[0m\u001b[0m\n",
      "\u001b[1;32mpandas\\_libs\\lib.pyx\u001b[0m in \u001b[0;36mpandas._libs.lib.map_infer\u001b[1;34m()\u001b[0m\n",
      "\u001b[1;32m<ipython-input-56-3b3850d7a485>\u001b[0m in \u001b[0;36m<lambda>\u001b[1;34m(x)\u001b[0m\n\u001b[0;32m      1\u001b[0m \u001b[1;31m# since 'int_rate' is a string datatype, converting it into float\u001b[0m\u001b[1;33m\u001b[0m\u001b[1;33m\u001b[0m\u001b[1;33m\u001b[0m\u001b[0m\n\u001b[1;32m----> 2\u001b[1;33m \u001b[0mloan_df\u001b[0m\u001b[1;33m.\u001b[0m\u001b[0mint_rate\u001b[0m \u001b[1;33m=\u001b[0m \u001b[0mloan_df\u001b[0m\u001b[1;33m.\u001b[0m\u001b[0mint_rate\u001b[0m\u001b[1;33m.\u001b[0m\u001b[0mapply\u001b[0m\u001b[1;33m(\u001b[0m\u001b[1;32mlambda\u001b[0m \u001b[0mx\u001b[0m\u001b[1;33m:\u001b[0m \u001b[0mfloat\u001b[0m\u001b[1;33m(\u001b[0m\u001b[0mx\u001b[0m\u001b[1;33m.\u001b[0m\u001b[0mstrip\u001b[0m\u001b[1;33m(\u001b[0m\u001b[1;34m'%'\u001b[0m\u001b[1;33m)\u001b[0m\u001b[1;33m)\u001b[0m\u001b[1;33m)\u001b[0m\u001b[1;33m\u001b[0m\u001b[1;33m\u001b[0m\u001b[0m\n\u001b[0m",
      "\u001b[1;31mAttributeError\u001b[0m: 'float' object has no attribute 'strip'"
     ]
    }
   ],
   "source": [
    "# since 'int_rate' is a string datatype, converting it into float\n",
    "loan_df.int_rate = loan_df.int_rate.apply(lambda x: float(x.strip('%')))"
   ]
  },
  {
   "cell_type": "code",
   "execution_count": 57,
   "metadata": {},
   "outputs": [
    {
     "name": "stdout",
     "output_type": "stream",
     "text": [
      "count    38577.000000\n",
      "mean        11.932219\n",
      "std          3.691327\n",
      "min          5.420000\n",
      "25%          8.940000\n",
      "50%         11.710000\n",
      "75%         14.380000\n",
      "max         24.400000\n",
      "Name: int_rate, dtype: float64\n"
     ]
    },
    {
     "data": {
      "text/plain": [
       "<matplotlib.axes._subplots.AxesSubplot at 0x1af0c91e488>"
      ]
     },
     "execution_count": 57,
     "metadata": {},
     "output_type": "execute_result"
    },
    {
     "data": {
      "image/png": "[encoded data removed]",
      "text/plain": [
       "<Figure size 360x360 with 1 Axes>"
      ]
     },
     "metadata": {
      "needs_background": "light"
     },
     "output_type": "display_data"
    }
   ],
   "source": [
    "print(loan_df.int_rate.describe())\n",
    "plt.figure(figsize=(5,5))\n",
    "sns.boxplot(loan_df['int_rate'] )"
   ]
  },
  {
   "cell_type": "code",
   "execution_count": 58,
   "metadata": {},
   "outputs": [
    {
     "data": {
      "text/html": [
       "<div>\n",
       "<style scoped>\n",
       "    .dataframe tbody tr th:only-of-type {\n",
       "        vertical-align: middle;\n",
       "    }\n",
       "\n",
       "    .dataframe tbody tr th {\n",
       "        vertical-align: top;\n",
       "    }\n",
       "\n",
       "    .dataframe thead th {\n",
       "        text-align: right;\n",
       "    }\n",
       "</style>\n",
       "<table border=\"1\" class=\"dataframe\">\n",
       "  <thead>\n",
       "    <tr style=\"text-align: right;\">\n",
       "      <th></th>\n",
       "      <th>count</th>\n",
       "      <th>mean</th>\n",
       "      <th>std</th>\n",
       "      <th>min</th>\n",
       "      <th>25%</th>\n",
       "      <th>50%</th>\n",
       "      <th>75%</th>\n",
       "      <th>max</th>\n",
       "    </tr>\n",
       "    <tr>\n",
       "      <th>loan_status</th>\n",
       "      <th></th>\n",
       "      <th></th>\n",
       "      <th></th>\n",
       "      <th></th>\n",
       "      <th></th>\n",
       "      <th></th>\n",
       "      <th></th>\n",
       "      <th></th>\n",
       "    </tr>\n",
       "  </thead>\n",
       "  <tbody>\n",
       "    <tr>\n",
       "      <td>Charged Off</td>\n",
       "      <td>5627.0</td>\n",
       "      <td>13.820432</td>\n",
       "      <td>3.654413</td>\n",
       "      <td>5.42</td>\n",
       "      <td>11.31</td>\n",
       "      <td>13.61</td>\n",
       "      <td>16.40</td>\n",
       "      <td>24.40</td>\n",
       "    </tr>\n",
       "    <tr>\n",
       "      <td>Fully Paid</td>\n",
       "      <td>32950.0</td>\n",
       "      <td>11.609761</td>\n",
       "      <td>3.599964</td>\n",
       "      <td>5.42</td>\n",
       "      <td>8.49</td>\n",
       "      <td>11.49</td>\n",
       "      <td>13.99</td>\n",
       "      <td>24.11</td>\n",
       "    </tr>\n",
       "  </tbody>\n",
       "</table>\n",
       "</div>"
      ],
      "text/plain": [
       "               count       mean       std   min    25%    50%    75%    max\n",
       "loan_status                                                                \n",
       "Charged Off   5627.0  13.820432  3.654413  5.42  11.31  13.61  16.40  24.40\n",
       "Fully Paid   32950.0  11.609761  3.599964  5.42   8.49  11.49  13.99  24.11"
      ]
     },
     "execution_count": 58,
     "metadata": {},
     "output_type": "execute_result"
    }
   ],
   "source": [
    "loan_df.groupby('loan_status')['int_rate'].describe()"
   ]
  },
  {
   "cell_type": "code",
   "execution_count": 60,
   "metadata": {},
   "outputs": [
    {
     "data": {
      "text/plain": [
       "{'whiskers': [<matplotlib.lines.Line2D at 0x1af0e3c8b08>,\n",
       "  <matplotlib.lines.Line2D at 0x1af0e3c8f48>],\n",
       " 'caps': [<matplotlib.lines.Line2D at 0x1af0e3c8c48>,\n",
       "  <matplotlib.lines.Line2D at 0x1af0e3cdb88>],\n",
       " 'boxes': [<matplotlib.lines.Line2D at 0x1af0e3c83c8>],\n",
       " 'medians': [<matplotlib.lines.Line2D at 0x1af0e3cdfc8>],\n",
       " 'fliers': [<matplotlib.lines.Line2D at 0x1af0e3cdcc8>],\n",
       " 'means': []}"
      ]
     },
     "execution_count": 60,
     "metadata": {},
     "output_type": "execute_result"
    },
    {
     "data": {
      "image/png": "[encoded data removed]",
      "text/plain": [
       "<Figure size 432x288 with 1 Axes>"
      ]
     },
     "metadata": {
      "needs_background": "light"
     },
     "output_type": "display_data"
    }
   ],
   "source": [
    "plt.boxplot(loan_df_ci['int_rate'] )"
   ]
  },
  {
   "cell_type": "markdown",
   "metadata": {},
   "source": [
    "Observation: 'Charged Off' accounts are charged higher Interest Rates when compared to 'Fully Paid' accounts, almost by 3%"
   ]
  },
  {
   "cell_type": "code",
   "execution_count": 61,
   "metadata": {},
   "outputs": [
    {
     "name": "stdout",
     "output_type": "stream",
     "text": [
      "count    38577.000000\n",
      "mean       322.466318\n",
      "std        208.639215\n",
      "min         15.690000\n",
      "25%        165.740000\n",
      "50%        277.860000\n",
      "75%        425.550000\n",
      "max       1305.190000\n",
      "Name: installment, dtype: float64\n"
     ]
    },
    {
     "data": {
      "text/plain": [
       "<matplotlib.axes._subplots.AxesSubplot at 0x1af0e626808>"
      ]
     },
     "execution_count": 61,
     "metadata": {},
     "output_type": "execute_result"
    },
    {
     "data": {
      "image/png": "[encoded data removed]",
      "text/plain": [
       "<Figure size 720x360 with 1 Axes>"
      ]
     },
     "metadata": {
      "needs_background": "light"
     },
     "output_type": "display_data"
    }
   ],
   "source": [
    "# installment\n",
    "print(loan_df.installment.describe())\n",
    "plt.figure(figsize=(10,5))\n",
    "sns.histplot(loan_df['installment'] )"
   ]
  },
  {
   "cell_type": "code",
   "execution_count": 62,
   "metadata": {},
   "outputs": [
    {
     "data": {
      "text/html": [
       "<div>\n",
       "<style scoped>\n",
       "    .dataframe tbody tr th:only-of-type {\n",
       "        vertical-align: middle;\n",
       "    }\n",
       "\n",
       "    .dataframe tbody tr th {\n",
       "        vertical-align: top;\n",
       "    }\n",
       "\n",
       "    .dataframe thead th {\n",
       "        text-align: right;\n",
       "    }\n",
       "</style>\n",
       "<table border=\"1\" class=\"dataframe\">\n",
       "  <thead>\n",
       "    <tr style=\"text-align: right;\">\n",
       "      <th></th>\n",
       "      <th>count</th>\n",
       "      <th>mean</th>\n",
       "      <th>std</th>\n",
       "      <th>min</th>\n",
       "      <th>25%</th>\n",
       "      <th>50%</th>\n",
       "      <th>75%</th>\n",
       "      <th>max</th>\n",
       "    </tr>\n",
       "    <tr>\n",
       "      <th>loan_status</th>\n",
       "      <th></th>\n",
       "      <th></th>\n",
       "      <th></th>\n",
       "      <th></th>\n",
       "      <th></th>\n",
       "      <th></th>\n",
       "      <th></th>\n",
       "      <th></th>\n",
       "    </tr>\n",
       "  </thead>\n",
       "  <tbody>\n",
       "    <tr>\n",
       "      <td>Charged Off</td>\n",
       "      <td>5627.0</td>\n",
       "      <td>336.175006</td>\n",
       "      <td>217.051841</td>\n",
       "      <td>22.79</td>\n",
       "      <td>168.5550</td>\n",
       "      <td>293.87</td>\n",
       "      <td>457.840</td>\n",
       "      <td>1305.19</td>\n",
       "    </tr>\n",
       "    <tr>\n",
       "      <td>Fully Paid</td>\n",
       "      <td>32950.0</td>\n",
       "      <td>320.125232</td>\n",
       "      <td>207.081110</td>\n",
       "      <td>15.69</td>\n",
       "      <td>165.2825</td>\n",
       "      <td>275.65</td>\n",
       "      <td>420.735</td>\n",
       "      <td>1295.21</td>\n",
       "    </tr>\n",
       "  </tbody>\n",
       "</table>\n",
       "</div>"
      ],
      "text/plain": [
       "               count        mean         std    min       25%     50%  \\\n",
       "loan_status                                                             \n",
       "Charged Off   5627.0  336.175006  217.051841  22.79  168.5550  293.87   \n",
       "Fully Paid   32950.0  320.125232  207.081110  15.69  165.2825  275.65   \n",
       "\n",
       "                 75%      max  \n",
       "loan_status                    \n",
       "Charged Off  457.840  1305.19  \n",
       "Fully Paid   420.735  1295.21  "
      ]
     },
     "execution_count": 62,
     "metadata": {},
     "output_type": "execute_result"
    }
   ],
   "source": [
    "loan_df.groupby('loan_status')['installment'].describe()"
   ]
  },
  {
   "cell_type": "code",
   "execution_count": 63,
   "metadata": {},
   "outputs": [
    {
     "data": {
      "text/plain": [
       "<matplotlib.axes._subplots.AxesSubplot at 0x1af0e50c208>"
      ]
     },
     "execution_count": 63,
     "metadata": {},
     "output_type": "execute_result"
    },
    {
     "data": {
      "image/png": "[encoded data removed]",
      "text/plain": [
       "<Figure size 432x288 with 1 Axes>"
      ]
     },
     "metadata": {
      "needs_background": "light"
     },
     "output_type": "display_data"
    }
   ],
   "source": [
    "#sns.boxplot(loan_df_ci['installment'] )\n",
    "sns.histplot(loan_df_ci['installment'] )"
   ]
  },
  {
   "cell_type": "code",
   "execution_count": 64,
   "metadata": {},
   "outputs": [
    {
     "data": {
      "text/plain": [
       "<matplotlib.axes._subplots.AxesSubplot at 0x1af0e43fd48>"
      ]
     },
     "execution_count": 64,
     "metadata": {},
     "output_type": "execute_result"
    },
    {
     "data": {
      "image/png": "[encoded data removed]",
      "text/plain": [
       "<Figure size 432x288 with 1 Axes>"
      ]
     },
     "metadata": {
      "needs_background": "light"
     },
     "output_type": "display_data"
    }
   ],
   "source": [
    "#sns.boxplot(loan_df_fp['installment'] )\n",
    "sns.histplot(loan_df_fp['installment'] )"
   ]
  },
  {
   "cell_type": "markdown",
   "metadata": {},
   "source": [
    "Observation: Installments are marginally higher for Charged Off Accounts when compared to Fully Paid accounts, which is intuitive as Interest rates are also higher for Charged Off accounts than Fully Paid accounts"
   ]
  },
  {
   "cell_type": "code",
   "execution_count": 65,
   "metadata": {},
   "outputs": [
    {
     "name": "stdout",
     "output_type": "stream",
     "text": [
      "count    38577.000000\n",
      "mean        13.272727\n",
      "std          6.673044\n",
      "min          0.000000\n",
      "25%          8.130000\n",
      "50%         13.370000\n",
      "75%         18.560000\n",
      "max         29.990000\n",
      "Name: dti, dtype: float64\n"
     ]
    },
    {
     "data": {
      "text/plain": [
       "<matplotlib.axes._subplots.AxesSubplot at 0x1af0e3ef048>"
      ]
     },
     "execution_count": 65,
     "metadata": {},
     "output_type": "execute_result"
    },
    {
     "data": {
      "image/png": "[encoded data removed]",
      "text/plain": [
       "<Figure size 720x360 with 1 Axes>"
      ]
     },
     "metadata": {
      "needs_background": "light"
     },
     "output_type": "display_data"
    }
   ],
   "source": [
    "# dti\n",
    "print(loan_df.dti.describe())\n",
    "plt.figure(figsize=(10,5))\n",
    "sns.histplot(loan_df['dti'] )"
   ]
  },
  {
   "cell_type": "code",
   "execution_count": 66,
   "metadata": {},
   "outputs": [
    {
     "data": {
      "text/html": [
       "<div>\n",
       "<style scoped>\n",
       "    .dataframe tbody tr th:only-of-type {\n",
       "        vertical-align: middle;\n",
       "    }\n",
       "\n",
       "    .dataframe tbody tr th {\n",
       "        vertical-align: top;\n",
       "    }\n",
       "\n",
       "    .dataframe thead th {\n",
       "        text-align: right;\n",
       "    }\n",
       "</style>\n",
       "<table border=\"1\" class=\"dataframe\">\n",
       "  <thead>\n",
       "    <tr style=\"text-align: right;\">\n",
       "      <th></th>\n",
       "      <th>count</th>\n",
       "      <th>mean</th>\n",
       "      <th>std</th>\n",
       "      <th>min</th>\n",
       "      <th>25%</th>\n",
       "      <th>50%</th>\n",
       "      <th>75%</th>\n",
       "      <th>max</th>\n",
       "    </tr>\n",
       "    <tr>\n",
       "      <th>loan_status</th>\n",
       "      <th></th>\n",
       "      <th></th>\n",
       "      <th></th>\n",
       "      <th></th>\n",
       "      <th></th>\n",
       "      <th></th>\n",
       "      <th></th>\n",
       "      <th></th>\n",
       "    </tr>\n",
       "  </thead>\n",
       "  <tbody>\n",
       "    <tr>\n",
       "      <td>Charged Off</td>\n",
       "      <td>5627.0</td>\n",
       "      <td>14.000624</td>\n",
       "      <td>6.585577</td>\n",
       "      <td>0.0</td>\n",
       "      <td>9.05</td>\n",
       "      <td>14.29</td>\n",
       "      <td>19.29</td>\n",
       "      <td>29.85</td>\n",
       "    </tr>\n",
       "    <tr>\n",
       "      <td>Fully Paid</td>\n",
       "      <td>32950.0</td>\n",
       "      <td>13.148421</td>\n",
       "      <td>6.680041</td>\n",
       "      <td>0.0</td>\n",
       "      <td>7.98</td>\n",
       "      <td>13.20</td>\n",
       "      <td>18.39</td>\n",
       "      <td>29.99</td>\n",
       "    </tr>\n",
       "  </tbody>\n",
       "</table>\n",
       "</div>"
      ],
      "text/plain": [
       "               count       mean       std  min   25%    50%    75%    max\n",
       "loan_status                                                              \n",
       "Charged Off   5627.0  14.000624  6.585577  0.0  9.05  14.29  19.29  29.85\n",
       "Fully Paid   32950.0  13.148421  6.680041  0.0  7.98  13.20  18.39  29.99"
      ]
     },
     "execution_count": 66,
     "metadata": {},
     "output_type": "execute_result"
    }
   ],
   "source": [
    "loan_df.groupby('loan_status')['dti'].describe()"
   ]
  },
  {
   "cell_type": "code",
   "execution_count": 67,
   "metadata": {},
   "outputs": [
    {
     "data": {
      "text/plain": [
       "<matplotlib.axes._subplots.AxesSubplot at 0x1af0e8affc8>"
      ]
     },
     "execution_count": 67,
     "metadata": {},
     "output_type": "execute_result"
    },
    {
     "data": {
      "image/png": "[encoded data removed]",
      "text/plain": [
       "<Figure size 432x288 with 1 Axes>"
      ]
     },
     "metadata": {
      "needs_background": "light"
     },
     "output_type": "display_data"
    }
   ],
   "source": [
    "sns.histplot(loan_df_fp['dti'] )"
   ]
  },
  {
   "cell_type": "code",
   "execution_count": 68,
   "metadata": {},
   "outputs": [
    {
     "data": {
      "text/plain": [
       "<matplotlib.axes._subplots.AxesSubplot at 0x1af0e819f08>"
      ]
     },
     "execution_count": 68,
     "metadata": {},
     "output_type": "execute_result"
    },
    {
     "data": {
      "image/png": "[encoded data removed]",
      "text/plain": [
       "<Figure size 432x288 with 1 Axes>"
      ]
     },
     "metadata": {
      "needs_background": "light"
     },
     "output_type": "display_data"
    }
   ],
   "source": [
    "sns.histplot(loan_df_ci['dti'] )"
   ]
  },
  {
   "cell_type": "markdown",
   "metadata": {},
   "source": [
    "Observation: Charged Off loans have marginally higher dti when compared to Fully Paid loans. "
   ]
  },
  {
   "cell_type": "code",
   "execution_count": 69,
   "metadata": {},
   "outputs": [
    {
     "data": {
      "text/plain": [
       "32979    1991\n",
       "8515     1990\n",
       "38972    2000\n",
       "10829    1989\n",
       "15527    1994\n",
       "         ... \n",
       "10586    1989\n",
       "25143    1976\n",
       "22270    2003\n",
       "12320    1986\n",
       "26034    2000\n",
       "Name: earliest_cr_line, Length: 38577, dtype: int64"
      ]
     },
     "execution_count": 69,
     "metadata": {},
     "output_type": "execute_result"
    }
   ],
   "source": [
    "# earliest_cr_line\n",
    "# converting the 'earliset_cr_line' to only 'Year' for looking into the history of Credit line Issued\n",
    "import datetime\n",
    "\n",
    "def pickDate(earliest_cr_line):\n",
    "    dt = int(datetime.datetime.strptime(earliest_cr_line, '%b-%y').strftime('%Y'))\n",
    "    \n",
    "    if (dt >= 2030):\n",
    "        dt-=100\n",
    "    return dt \n",
    "loan_df.earliest_cr_line = loan_df.earliest_cr_line.apply(pickDate)\n",
    "loan_df.earliest_cr_line"
   ]
  },
  {
   "cell_type": "code",
   "execution_count": 70,
   "metadata": {},
   "outputs": [
    {
     "data": {
      "text/plain": [
       "<matplotlib.axes._subplots.AxesSubplot at 0x1af0e9ffc48>"
      ]
     },
     "execution_count": 70,
     "metadata": {},
     "output_type": "execute_result"
    },
    {
     "data": {
      "image/png": "[encoded data removed]",
      "text/plain": [
       "<Figure size 1080x360 with 1 Axes>"
      ]
     },
     "metadata": {
      "needs_background": "light"
     },
     "output_type": "display_data"
    }
   ],
   "source": [
    "plt.figure(figsize=(15,5))\n",
    "sns.histplot(loan_df['earliest_cr_line'] )"
   ]
  },
  {
   "cell_type": "code",
   "execution_count": 71,
   "metadata": {},
   "outputs": [
    {
     "data": {
      "text/html": [
       "<div>\n",
       "<style scoped>\n",
       "    .dataframe tbody tr th:only-of-type {\n",
       "        vertical-align: middle;\n",
       "    }\n",
       "\n",
       "    .dataframe tbody tr th {\n",
       "        vertical-align: top;\n",
       "    }\n",
       "\n",
       "    .dataframe thead th {\n",
       "        text-align: right;\n",
       "    }\n",
       "</style>\n",
       "<table border=\"1\" class=\"dataframe\">\n",
       "  <thead>\n",
       "    <tr style=\"text-align: right;\">\n",
       "      <th></th>\n",
       "      <th>count</th>\n",
       "      <th>mean</th>\n",
       "      <th>std</th>\n",
       "      <th>min</th>\n",
       "      <th>25%</th>\n",
       "      <th>50%</th>\n",
       "      <th>75%</th>\n",
       "      <th>max</th>\n",
       "    </tr>\n",
       "    <tr>\n",
       "      <th>loan_status</th>\n",
       "      <th></th>\n",
       "      <th></th>\n",
       "      <th></th>\n",
       "      <th></th>\n",
       "      <th></th>\n",
       "      <th></th>\n",
       "      <th></th>\n",
       "      <th></th>\n",
       "    </tr>\n",
       "  </thead>\n",
       "  <tbody>\n",
       "    <tr>\n",
       "      <td>Charged Off</td>\n",
       "      <td>5627.0</td>\n",
       "      <td>1996.947396</td>\n",
       "      <td>6.757051</td>\n",
       "      <td>1962.0</td>\n",
       "      <td>1994.0</td>\n",
       "      <td>1998.0</td>\n",
       "      <td>2001.0</td>\n",
       "      <td>2008.0</td>\n",
       "    </tr>\n",
       "    <tr>\n",
       "      <td>Fully Paid</td>\n",
       "      <td>32950.0</td>\n",
       "      <td>1996.546313</td>\n",
       "      <td>6.824043</td>\n",
       "      <td>1946.0</td>\n",
       "      <td>1993.0</td>\n",
       "      <td>1998.0</td>\n",
       "      <td>2001.0</td>\n",
       "      <td>2008.0</td>\n",
       "    </tr>\n",
       "  </tbody>\n",
       "</table>\n",
       "</div>"
      ],
      "text/plain": [
       "               count         mean       std     min     25%     50%     75%  \\\n",
       "loan_status                                                                   \n",
       "Charged Off   5627.0  1996.947396  6.757051  1962.0  1994.0  1998.0  2001.0   \n",
       "Fully Paid   32950.0  1996.546313  6.824043  1946.0  1993.0  1998.0  2001.0   \n",
       "\n",
       "                max  \n",
       "loan_status          \n",
       "Charged Off  2008.0  \n",
       "Fully Paid   2008.0  "
      ]
     },
     "execution_count": 71,
     "metadata": {},
     "output_type": "execute_result"
    }
   ],
   "source": [
    "loan_df.groupby('loan_status')['earliest_cr_line'].describe()"
   ]
  },
  {
   "cell_type": "code",
   "execution_count": 80,
   "metadata": {
    "scrolled": true
   },
   "outputs": [
    {
     "name": "stdout",
     "output_type": "stream",
     "text": [
      "2000    500\n",
      "1999    442\n",
      "1998    415\n",
      "1997    374\n",
      "2001    356\n",
      "1995    303\n",
      "1996    299\n",
      "1994    275\n",
      "2002    255\n",
      "2005    239\n",
      "2004    229\n",
      "2003    225\n",
      "2006    224\n",
      "1993    195\n",
      "2007    144\n",
      "1991    143\n",
      "1992    135\n",
      "1990    125\n",
      "1989    112\n",
      "1988    106\n",
      "1987     77\n",
      "1985     66\n",
      "1983     53\n",
      "1986     53\n",
      "1984     49\n",
      "1982     32\n",
      "1979     31\n",
      "2008     28\n",
      "1978     23\n",
      "1981     20\n",
      "1980     16\n",
      "1977     13\n",
      "1973     12\n",
      "1975      9\n",
      "1972      8\n",
      "1970      7\n",
      "1974      6\n",
      "1968      5\n",
      "1967      5\n",
      "1971      5\n",
      "1976      4\n",
      "1969      3\n",
      "1966      2\n",
      "1962      2\n",
      "1965      1\n",
      "1963      1\n",
      "Name: earliest_cr_line, dtype: int64\n",
      "============================================\n",
      "2000    8.885730\n",
      "1999    7.854985\n",
      "1998    7.375156\n",
      "1997    6.646526\n",
      "2001    6.326639\n",
      "1995    5.384752\n",
      "1996    5.313666\n",
      "1994    4.887151\n",
      "2002    4.531722\n",
      "2005    4.247379\n",
      "2004    4.069664\n",
      "2003    3.998578\n",
      "2006    3.980807\n",
      "1993    3.465435\n",
      "2007    2.559090\n",
      "1991    2.541319\n",
      "1992    2.399147\n",
      "1990    2.221432\n",
      "1989    1.990403\n",
      "1988    1.883775\n",
      "1987    1.368402\n",
      "1985    1.172916\n",
      "1983    0.941887\n",
      "1986    0.941887\n",
      "1984    0.870801\n",
      "1982    0.568687\n",
      "1979    0.550915\n",
      "2008    0.497601\n",
      "1978    0.408744\n",
      "1981    0.355429\n",
      "1980    0.284343\n",
      "1977    0.231029\n",
      "1973    0.213258\n",
      "1975    0.159943\n",
      "1972    0.142172\n",
      "1970    0.124400\n",
      "1974    0.106629\n",
      "1968    0.088857\n",
      "1967    0.088857\n",
      "1971    0.088857\n",
      "1976    0.071086\n",
      "1969    0.053314\n",
      "1966    0.035543\n",
      "1962    0.035543\n",
      "1965    0.017771\n",
      "1963    0.017771\n",
      "Name: earliest_cr_line, dtype: float64\n"
     ]
    },
    {
     "data": {
      "image/png": "[encoded data removed]",
      "text/plain": [
       "<Figure size 2160x360 with 1 Axes>"
      ]
     },
     "metadata": {
      "needs_background": "light"
     },
     "output_type": "display_data"
    }
   ],
   "source": [
    "plot_hist(loan_df,'earliest_cr_line',0)\n",
    "#sns.histplot(loan_df_ci['earliest_cr_line'] )"
   ]
  },
  {
   "cell_type": "code",
   "execution_count": 81,
   "metadata": {},
   "outputs": [
    {
     "name": "stdout",
     "output_type": "stream",
     "text": [
      "2000    2660\n",
      "1999    2454\n",
      "1998    2358\n",
      "2001    2106\n",
      "1997    2013\n",
      "1996    1903\n",
      "1995    1775\n",
      "1994    1673\n",
      "2002    1635\n",
      "2003    1588\n",
      "2004    1498\n",
      "1993    1265\n",
      "2005    1228\n",
      "2006     930\n",
      "1992     894\n",
      "1990     880\n",
      "1991     802\n",
      "1989     722\n",
      "1988     603\n",
      "2007     554\n",
      "1987     513\n",
      "1986     425\n",
      "1985     373\n",
      "1984     346\n",
      "1983     269\n",
      "1982     183\n",
      "1981     161\n",
      "1980     159\n",
      "1978     138\n",
      "1979     126\n",
      "2008     125\n",
      "1977      99\n",
      "1976      89\n",
      "1975      74\n",
      "1974      56\n",
      "1973      49\n",
      "1972      41\n",
      "1970      40\n",
      "1971      40\n",
      "1969      34\n",
      "1968      14\n",
      "1967      13\n",
      "1963       9\n",
      "1966       9\n",
      "1965       7\n",
      "1964       6\n",
      "1962       3\n",
      "1961       2\n",
      "1954       2\n",
      "1959       1\n",
      "1946       1\n",
      "1956       1\n",
      "1950       1\n",
      "Name: earliest_cr_line, dtype: int64\n",
      "============================================\n",
      "2000    8.072838\n",
      "1999    7.447648\n",
      "1998    7.156297\n",
      "2001    6.391502\n",
      "1997    6.109256\n",
      "1996    5.775417\n",
      "1995    5.386950\n",
      "1994    5.077390\n",
      "2002    4.962064\n",
      "2003    4.819423\n",
      "2004    4.546282\n",
      "1993    3.839150\n",
      "2005    3.726859\n",
      "2006    2.822458\n",
      "1992    2.713202\n",
      "1990    2.670713\n",
      "1991    2.433991\n",
      "1989    2.191199\n",
      "1988    1.830046\n",
      "2007    1.681335\n",
      "1987    1.556904\n",
      "1986    1.289833\n",
      "1985    1.132018\n",
      "1984    1.050076\n",
      "1983    0.816388\n",
      "1982    0.555387\n",
      "1981    0.488619\n",
      "1980    0.482549\n",
      "1978    0.418816\n",
      "1979    0.382398\n",
      "2008    0.379363\n",
      "1977    0.300455\n",
      "1976    0.270106\n",
      "1975    0.224583\n",
      "1974    0.169954\n",
      "1973    0.148710\n",
      "1972    0.124431\n",
      "1970    0.121396\n",
      "1971    0.121396\n",
      "1969    0.103187\n",
      "1968    0.042489\n",
      "1967    0.039454\n",
      "1963    0.027314\n",
      "1966    0.027314\n",
      "1965    0.021244\n",
      "1964    0.018209\n",
      "1962    0.009105\n",
      "1961    0.006070\n",
      "1954    0.006070\n",
      "1959    0.003035\n",
      "1946    0.003035\n",
      "1956    0.003035\n",
      "1950    0.003035\n",
      "Name: earliest_cr_line, dtype: float64\n"
     ]
    },
    {
     "data": {
      "image/png": "[encoded data removed]",
      "text/plain": [
       "<Figure size 2160x360 with 1 Axes>"
      ]
     },
     "metadata": {
      "needs_background": "light"
     },
     "output_type": "display_data"
    }
   ],
   "source": [
    "plot_hist(loan_df,'earliest_cr_line',1)\n",
    "#plt.boxplot(loan_df_fp['earliest_cr_line'] )"
   ]
  },
  {
   "cell_type": "code",
   "execution_count": null,
   "metadata": {},
   "outputs": [],
   "source": []
  },
  {
   "cell_type": "code",
   "execution_count": null,
   "metadata": {},
   "outputs": [],
   "source": []
  },
  {
   "cell_type": "code",
   "execution_count": null,
   "metadata": {},
   "outputs": [],
   "source": [
    "#revol_util\n",
    "print(loan_df.revol_util.describe())\n",
    "loan_df.revol_util = loan_df.revol_util.apply(lambda x: float(str(x).strip('%')))\n",
    "\n",
    "loan_df.revol_util_log = loan_df.revol_util.apply(lambda x: np.log10(x))\n",
    "print(loan_df.revol_util_log.describe())"
   ]
  },
  {
   "cell_type": "code",
   "execution_count": null,
   "metadata": {},
   "outputs": [],
   "source": [
    "plt.figure(figsize=(10,5))\n",
    "sns.histplot(loan_df['revol_util'] )"
   ]
  },
  {
   "cell_type": "markdown",
   "metadata": {},
   "source": [
    "Bivariate Analysis"
   ]
  },
  {
   "cell_type": "code",
   "execution_count": null,
   "metadata": {},
   "outputs": [],
   "source": [
    "loan_df.groupby('loan_status')['loan_amnt'].describe()"
   ]
  },
  {
   "cell_type": "code",
   "execution_count": null,
   "metadata": {
    "scrolled": false
   },
   "outputs": [],
   "source": [
    "sns.boxplot(loan_df['loan_status'])\n",
    "loan_df['loan_amnt'].quantile([0.25, 0.5, 0.75, 0.85, 0.99])"
   ]
  },
  {
   "cell_type": "code",
   "execution_count": null,
   "metadata": {},
   "outputs": [],
   "source": []
  },
  {
   "cell_type": "code",
   "execution_count": null,
   "metadata": {},
   "outputs": [],
   "source": []
  }
 ],
 "metadata": {
  "kernelspec": {
   "display_name": "Python 3",
   "language": "python",
   "name": "python3"
  },
  "language_info": {
   "codemirror_mode": {
    "name": "ipython",
    "version": 3
   },
   "file_extension": ".py",
   "mimetype": "text/x-python",
   "name": "python",
   "nbconvert_exporter": "python",
   "pygments_lexer": "ipython3",
   "version": "3.7.4"
  }
 },
 "nbformat": 4,
 "nbformat_minor": 2
}
